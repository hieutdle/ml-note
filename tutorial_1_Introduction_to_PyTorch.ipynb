{
  "cells": [
    {
      "cell_type": "markdown",
      "metadata": {
        "id": "view-in-github",
        "colab_type": "text"
      },
      "source": [
        "<a href=\"https://colab.research.google.com/github/hieutdle/hpi-nlp/blob/main/tutorial_1_Introduction_to_PyTorch.ipynb\" target=\"_parent\"><img src=\"https://colab.research.google.com/assets/colab-badge.svg\" alt=\"Open In Colab\"/></a>"
      ]
    },
    {
      "cell_type": "markdown",
      "metadata": {
        "id": "p2EWTUA0f4pR"
      },
      "source": [
        "# Tutorial 1: Introduction to PyTorch\n",
        " \n",
        "**Date**: 15.05.2023"
      ]
    },
    {
      "cell_type": "markdown",
      "metadata": {
        "id": "ja3aPPJmf4pV"
      },
      "source": [
        "This notebook includes short introduction to PyTorch basics and guidelines on how to write your pipeline for creating and training your own neural networks. This work is highly inspired from [the tutorial by Amsterdam Univeristy](https://colab.research.google.com/github/phlippe/uvadlc_notebooks/blob/master/docs/tutorial_notebooks/tutorial2/Introduction_to_PyTorch.ipynb#scrollTo=tlY-Y6sGf4pe)."
      ]
    },
    {
      "cell_type": "markdown",
      "metadata": {
        "id": "Y4zNUqsuf4pZ"
      },
      "source": [
        "## The Basics of PyTorch\n",
        "\n",
        "We will start with reviewing the very basic concepts of PyTorch."
      ]
    },
    {
      "cell_type": "code",
      "execution_count": null,
      "metadata": {
        "id": "MmOwKoFPf4pZ",
        "outputId": "3e00c425-e616-4dee-8d16-36146b0628a2",
        "colab": {
          "base_uri": "https://localhost:8080/"
        }
      },
      "outputs": [
        {
          "output_type": "stream",
          "name": "stdout",
          "text": [
            "Version of the installed torch is: 2.0.0+cu118\n"
          ]
        }
      ],
      "source": [
        "import torch\n",
        "\n",
        "version = torch.__version__\n",
        "print(f'Version of the installed torch is: {version}')"
      ]
    },
    {
      "cell_type": "markdown",
      "metadata": {
        "id": "0kOrCu7lf4pa"
      },
      "source": [
        "Check the most stable version at [the official PyTorch page](https://pytorch.org/). You can also check the CUDA compatibilities, `pip` or `conda` commands for installing other versions, etc. \n",
        "\n",
        "In general, it is recommended to keep your libraries updated to the newest ones. This is mainly because usually in the newest versions, the bugs/vulnaribilities reported in the older versions of the libraries are fixed."
      ]
    },
    {
      "cell_type": "markdown",
      "source": [
        "Since we will be generating some random numbers in this tutorial, let's make sure to always generate the same sequence of random numbers in different runs. This helps with the reproducibility of your results. Read [this discussion for more information](https://stats.stackexchange.com/questions/354373/what-exactly-is-a-seed-in-a-random-number-generator)."
      ],
      "metadata": {
        "id": "V_XBaG4G03od"
      }
    },
    {
      "cell_type": "code",
      "execution_count": null,
      "metadata": {
        "id": "W0GVZ1Huf4pa",
        "outputId": "b28b9e77-ff1a-41f0-b056-097f95dd4cb0",
        "colab": {
          "base_uri": "https://localhost:8080/"
        }
      },
      "outputs": [
        {
          "output_type": "execute_result",
          "data": {
            "text/plain": [
              "<torch._C.Generator at 0x7f3996df12b0>"
            ]
          },
          "metadata": {},
          "execution_count": 3
        }
      ],
      "source": [
        "torch.manual_seed(42) # Setting the seed"
      ]
    },
    {
      "cell_type": "markdown",
      "metadata": {
        "id": "wJmsusZyf4pa"
      },
      "source": [
        "### Tensors\n",
        "\n",
        "Tensors are the PyTorch equivalent to Numpy arrays, with the addition to also have support for GPU acceleration (more on that later).\n",
        "The name \"tensor\" is a generalization of concepts you already know. For instance, a vector is a 1-D tensor, and a matrix a 2-D tensor. When working with neural networks, we will use tensors of various shapes and number of dimensions.\n",
        "\n",
        "Most common functions you know from numpy can be used on tensors as well."
      ]
    },
    {
      "cell_type": "code",
      "source": [
        "random_tensor = torch.rand(2, 3)\n",
        "print(f'This is a randomly generated tensor with 2 rows and 3 columns: \\n{random_tensor}')"
      ],
      "metadata": {
        "colab": {
          "base_uri": "https://localhost:8080/"
        },
        "id": "p4z0pcxj2bJ_",
        "outputId": "3c760954-d4b6-4f5f-a79e-48caaf86a38e"
      },
      "execution_count": null,
      "outputs": [
        {
          "output_type": "stream",
          "name": "stdout",
          "text": [
            "This is a randomly generated tensor with 2 rows and 3 columns: \n",
            "tensor([[0.8823, 0.9150, 0.3829],\n",
            "        [0.9593, 0.3904, 0.6009]])\n"
          ]
        }
      ]
    },
    {
      "cell_type": "code",
      "execution_count": null,
      "metadata": {
        "id": "AnC1ZFNif4pb",
        "outputId": "e9a83580-350c-4b50-f530-40dbb4536241",
        "colab": {
          "base_uri": "https://localhost:8080/"
        }
      },
      "outputs": [
        {
          "output_type": "stream",
          "name": "stdout",
          "text": [
            "This is a 3D randomly generated tensor with the size (2, 3, 4): \n",
            "tensor([[[0.9516, 0.0753, 0.8860, 0.5832],\n",
            "         [0.3376, 0.8090, 0.5779, 0.9040],\n",
            "         [0.5547, 0.3423, 0.6343, 0.3644]],\n",
            "\n",
            "        [[0.7104, 0.9464, 0.7890, 0.2814],\n",
            "         [0.7886, 0.5895, 0.7539, 0.1952],\n",
            "         [0.0050, 0.3068, 0.1165, 0.9103]]])\n"
          ]
        }
      ],
      "source": [
        "random_tensor = torch.rand(2, 3, 4)\n",
        "print(f'This is a 3D randomly generated tensor with the size (2, 3, 4): \\n{random_tensor}')"
      ]
    },
    {
      "cell_type": "markdown",
      "metadata": {
        "id": "ao9TrKRTf4pb"
      },
      "source": [
        "To directly assign values to the tensor during initialization, there are many alternatives including:\n",
        "\n",
        "* `torch.zeros`: Creates a tensor filled with zeros\n",
        "* `torch.ones`: Creates a tensor filled with ones\n",
        "* `torch.rand`: Creates a tensor with random values uniformly sampled between 0 and 1\n",
        "* `torch.randn`: Creates a tensor with random values sampled from a normal distribution with mean 0 and variance 1\n",
        "* `torch.arange`: Creates a tensor containing the values $N,N+1,N+2,...,M$\n",
        "* `torch.Tensor` (input list): Creates a tensor from the list elements you provide"
      ]
    },
    {
      "cell_type": "code",
      "source": [
        "sample_list = [1, 2, 3]\n",
        "sample_tensor = torch.Tensor(sample_list)\n",
        "print(f'This is an example of 1D tensor/vector: {sample_tensor}')\n",
        "print(f'Size of the tensor: {sample_tensor.shape}')"
      ],
      "metadata": {
        "colab": {
          "base_uri": "https://localhost:8080/"
        },
        "id": "V-0MSM4-5vv7",
        "outputId": "76bfd8e9-ad6c-4375-b2df-368c444e5fd6"
      },
      "execution_count": null,
      "outputs": [
        {
          "output_type": "stream",
          "name": "stdout",
          "text": [
            "This is an example of 1D tensor/vector: tensor([1., 2., 3.])\n",
            "Size of the tensor: torch.Size([3])\n"
          ]
        }
      ]
    },
    {
      "cell_type": "code",
      "execution_count": null,
      "metadata": {
        "id": "PBIU6xd3f4pc",
        "outputId": "aaa10de4-4a66-4c20-9e14-4709ce70c8fb",
        "colab": {
          "base_uri": "https://localhost:8080/"
        }
      },
      "outputs": [
        {
          "output_type": "stream",
          "name": "stdout",
          "text": [
            "This is an example of 2D tensor/matrix:\n",
            "tensor([[1., 2., 3.],\n",
            "        [4., 5., 6.]])\n",
            "Size of the tensor: torch.Size([2, 3])\n"
          ]
        }
      ],
      "source": [
        "# Create nested lists for creating tensor with more dimensions\n",
        "nested_list = [[1, 2, 3], [4, 5, 6]]\n",
        "sample_tensor = torch.Tensor(nested_list)\n",
        "print(f'This is an example of 2D tensor/matrix:\\n{sample_tensor}')\n",
        "print(f'Size of the tensor: {sample_tensor.shape}')"
      ]
    },
    {
      "cell_type": "markdown",
      "metadata": {
        "id": "pOAgUW-pf4pc"
      },
      "source": [
        "You can obtain the shape of a tensor in the same way as in numpy (`x.shape`), or using the `.size` method:"
      ]
    },
    {
      "cell_type": "markdown",
      "metadata": {
        "id": "t6pUmmmif4pe"
      },
      "source": [
        "You can also convert numpy arrays to torch tensors."
      ]
    },
    {
      "cell_type": "code",
      "source": [
        "import numpy as np\n",
        "\n",
        "np_arr = np.array([[1, 2], [3, 4]])\n",
        "tensor = torch.from_numpy(np_arr)\n",
        "\n",
        "tensor = torch.arange(4)\n",
        "np_arr = tensor.numpy()"
      ],
      "metadata": {
        "id": "nesOcbIv7P9m"
      },
      "execution_count": null,
      "outputs": []
    },
    {
      "cell_type": "code",
      "source": [
        "np_arr.shape"
      ],
      "metadata": {
        "colab": {
          "base_uri": "https://localhost:8080/"
        },
        "id": "VUXjy5xaqzwB",
        "outputId": "16bf4cd4-8c8d-4100-f440-2dd2d02690cd"
      },
      "execution_count": null,
      "outputs": [
        {
          "output_type": "execute_result",
          "data": {
            "text/plain": [
              "(4,)"
            ]
          },
          "metadata": {},
          "execution_count": 3
        }
      ]
    },
    {
      "cell_type": "markdown",
      "metadata": {
        "id": "0kAOVITpf4pe"
      },
      "source": [
        "Most of the operatins from NumPy also exist in PyTorch. A full list of operations on torch tensors can be found in the [PyTorch documentation](https://pytorch.org/docs/stable/tensors.html#).\n"
      ]
    },
    {
      "cell_type": "markdown",
      "metadata": {
        "id": "cfLiZryaf4pg"
      },
      "source": [
        "A commonly used operation is matrix multiplications, which are essential for neural networks. Quite often, we have an input vector $\\mathbf{x}$, which is transformed using a learned weight matrix $\\mathbf{W}$. There are multiple ways and functions to perform matrix multiplication, some of which we list below:\n",
        "\n",
        "* `torch.matmul`: Performs the matrix product over two tensors, where the specific behavior depends on the dimensions. If both inputs are matrices (2-dimensional tensors), it performs the standard matrix product. For higher dimensional inputs, the function supports broadcasting (for details see the [documentation](https://pytorch.org/docs/stable/generated/torch.matmul.html?highlight=matmul#torch.matmul)). Can also be written as `a @ b`, similar to numpy. \n",
        "* `torch.mm`: Performs the matrix product over two matrices, but doesn't support broadcasting (see [documentation](https://pytorch.org/docs/stable/generated/torch.mm.html?highlight=torch%20mm#torch.mm))\n",
        "* `torch.bmm`: Performs the matrix product with a support batch dimension. If the first tensor $T$ is of shape ($b\\times n\\times m$), and the second tensor $R$ ($b\\times m\\times p$), the output $O$ is of shape ($b\\times n\\times p$), and has been calculated by performing $b$ matrix multiplications of the submatrices of $T$ and $R$: $O_i = T_i @ R_i$\n",
        "* `torch.mul`: Used for element-wise multiplication of tensors.\n",
        "\n",
        "Usually, we use `torch.matmul` or `torch.bmm`. We can try a matrix multiplication with `torch.matmul` below."
      ]
    },
    {
      "cell_type": "code",
      "execution_count": null,
      "metadata": {
        "id": "C-0pvspJf4pg",
        "outputId": "2cc611d0-66ba-422d-adc6-c1cbb2b15bed",
        "colab": {
          "base_uri": "https://localhost:8080/"
        }
      },
      "outputs": [
        {
          "output_type": "execute_result",
          "data": {
            "text/plain": [
              "tensor([0, 1, 2, 3, 4, 5])"
            ]
          },
          "metadata": {},
          "execution_count": 4
        }
      ],
      "source": [
        "x = torch.arange(6)\n",
        "x"
      ]
    },
    {
      "cell_type": "code",
      "source": [
        "x = x.view(2, 3)\n",
        "print(\"X\", x)"
      ],
      "metadata": {
        "colab": {
          "base_uri": "https://localhost:8080/"
        },
        "id": "y29qFZw_rEKK",
        "outputId": "51b7ee86-10c6-49dc-f107-9be010d8d4ed"
      },
      "execution_count": null,
      "outputs": [
        {
          "output_type": "stream",
          "name": "stdout",
          "text": [
            "X tensor([[0, 1, 2],\n",
            "        [3, 4, 5]])\n"
          ]
        }
      ]
    },
    {
      "cell_type": "code",
      "execution_count": null,
      "metadata": {
        "id": "QAR4nMqif4ph",
        "outputId": "11d6dc23-009b-481a-df81-0df97f80f6ba"
      },
      "outputs": [
        {
          "name": "stdout",
          "output_type": "stream",
          "text": [
            "W tensor([[0, 1, 2],\n",
            "        [3, 4, 5],\n",
            "        [6, 7, 8]])\n"
          ]
        }
      ],
      "source": [
        "W = torch.arange(9).view(3, 3) # We can also stack multiple operations in a single line\n",
        "print(\"W\", W)"
      ]
    },
    {
      "cell_type": "code",
      "execution_count": null,
      "metadata": {
        "id": "2R63cveLf4ph",
        "outputId": "bf8910b7-11ab-43a8-d6c5-55ecb4f56cda"
      },
      "outputs": [
        {
          "name": "stdout",
          "output_type": "stream",
          "text": [
            "h tensor([[15, 18, 21],\n",
            "        [42, 54, 66]])\n"
          ]
        }
      ],
      "source": [
        "h = torch.matmul(x, W) # Verify the result by calculating it by hand too!\n",
        "print(\"h\", h)"
      ]
    },
    {
      "cell_type": "markdown",
      "metadata": {
        "id": "Qso1-PGQf4ph"
      },
      "source": [
        "#### Indexing\n",
        "\n",
        "We often have the situation where we need to select a part of a tensor. Indexing works just like in numpy, so let's try it:"
      ]
    },
    {
      "cell_type": "code",
      "execution_count": null,
      "metadata": {
        "id": "cIjTb_Ujf4ph",
        "outputId": "10c86955-32a6-4d76-8ce8-2960b04f2003"
      },
      "outputs": [
        {
          "name": "stdout",
          "output_type": "stream",
          "text": [
            "X tensor([[ 0,  1,  2,  3],\n",
            "        [ 4,  5,  6,  7],\n",
            "        [ 8,  9, 10, 11]])\n"
          ]
        }
      ],
      "source": [
        "x = torch.arange(12).view(3, 4)\n",
        "print(\"X\", x)"
      ]
    },
    {
      "cell_type": "code",
      "execution_count": null,
      "metadata": {
        "id": "xYuVggvXf4pi",
        "outputId": "7264b768-6101-4ea4-cb97-467d8fc8c4b0"
      },
      "outputs": [
        {
          "name": "stdout",
          "output_type": "stream",
          "text": [
            "tensor([1, 5, 9])\n"
          ]
        }
      ],
      "source": [
        "print(x[:, 1])   # Second column"
      ]
    },
    {
      "cell_type": "code",
      "execution_count": null,
      "metadata": {
        "id": "cCvJs7hWf4pi",
        "outputId": "8cc14aba-9e90-493e-bdb5-762518d60198"
      },
      "outputs": [
        {
          "name": "stdout",
          "output_type": "stream",
          "text": [
            "tensor([0, 1, 2, 3])\n"
          ]
        }
      ],
      "source": [
        "print(x[0])      # First row"
      ]
    },
    {
      "cell_type": "code",
      "execution_count": null,
      "metadata": {
        "id": "CNemekHBf4pi",
        "outputId": "d505997f-7232-4071-803a-df1595932a73"
      },
      "outputs": [
        {
          "name": "stdout",
          "output_type": "stream",
          "text": [
            "tensor([3, 7])\n"
          ]
        }
      ],
      "source": [
        "print(x[:2, -1]) # First two rows, last column"
      ]
    },
    {
      "cell_type": "code",
      "execution_count": null,
      "metadata": {
        "id": "NYJXZXROf4pj",
        "outputId": "3db565b3-0b93-4f1c-e165-26d6079a7565"
      },
      "outputs": [
        {
          "name": "stdout",
          "output_type": "stream",
          "text": [
            "tensor([[ 4,  5,  6,  7],\n",
            "        [ 8,  9, 10, 11]])\n"
          ]
        }
      ],
      "source": [
        "print(x[1:3, :]) # Middle two rows"
      ]
    },
    {
      "cell_type": "markdown",
      "metadata": {
        "id": "4YreBahNf4pj"
      },
      "source": [
        "### Dynamic Computation Graph and Backpropagation\n",
        "\n",
        "If you are unfamiliar with backpropagation, read [this gentle overview of the topic: ](https://www.analyticsvidhya.com/blog/2023/01/gradient-descent-vs-backpropagation-whats-the-difference/).\n",
        "\n",
        "For more information on CrossEntroply: [check here](https://en.wikipedia.org/wiki/Cross_entropy) and [here](https://pytorch.org/docs/stable/generated/torch.nn.CrossEntropyLoss.html#torch.nn.CrossEntropyLoss)\n",
        "\n",
        "One of the main reasons for using PyTorch in Deep Learning projects is that we can automatically get **gradients/derivatives** of functions that we define. We will mainly use PyTorch for implementing neural networks, and they are just fancy functions. If we use weight matrices in our function that we want to learn, then those are called the **parameters** or simply the **weights**.\n",
        "\n",
        "If our neural network would output a single scalar value, we would talk about taking the **derivative**, but you will see that quite often we will have **multiple** output variables (\"values\"); in that case we talk about **gradients**. It's a more general term.\n",
        "\n",
        "Given an input $\\mathbf{x}$, we define our function by **manipulating** that input, usually by matrix-multiplications with weight matrices and additions with so-called bias vectors. As we manipulate our input, we are automatically creating a **computational graph**. This graph shows how to arrive at our output from our input. \n",
        "PyTorch is a **define-by-run** framework; this means that we can just do our manipulations, and PyTorch will keep track of that graph for us. Thus, we create a dynamic computation graph along the way.\n",
        "\n",
        "So, to recap: the only thing we have to do is to compute the **output**, and then we can ask PyTorch to automatically get the **gradients**. \n",
        "\n",
        "> **Note:  Why do we want gradients?** Consider that we have defined a function, a neural net, that is supposed to compute a certain output $y$ for an input vector $\\mathbf{x}$. We then define an **error measure** that tells us how wrong our network is; how bad it is in predicting output $y$ from input $\\mathbf{x}$. Based on this error measure, we can use the gradients to **update** the weights $\\mathbf{W}$ that were responsible for the output, so that the next time we present input $\\mathbf{x}$ to our network, the output will be closer to what we want.\n",
        "\n",
        "The first thing we have to do is to specify which tensors require gradients. By default, when we create a tensor, it does not require gradients."
      ]
    },
    {
      "cell_type": "code",
      "execution_count": null,
      "metadata": {
        "id": "XydvXU8_f4pj",
        "outputId": "73fddc7e-5029-4985-d8e1-2c27a672ace9"
      },
      "outputs": [
        {
          "name": "stdout",
          "output_type": "stream",
          "text": [
            "False\n"
          ]
        }
      ],
      "source": [
        "x = torch.ones((3,))\n",
        "print(x.requires_grad)"
      ]
    },
    {
      "cell_type": "markdown",
      "metadata": {
        "id": "lWjopTmRf4po"
      },
      "source": [
        "We can change this for an existing tensor using the function `requires_grad_()` (underscore indicating that this is a in-place operation). Alternatively, when creating a tensor, you can pass the argument `requires_grad=True` to most initializers we have seen above."
      ]
    },
    {
      "cell_type": "code",
      "execution_count": null,
      "metadata": {
        "id": "9KZeblANf4po",
        "outputId": "0e991fbf-544a-4380-e9d5-aff2846663bb"
      },
      "outputs": [
        {
          "name": "stdout",
          "output_type": "stream",
          "text": [
            "True\n"
          ]
        }
      ],
      "source": [
        "x.requires_grad_(True)\n",
        "print(x.requires_grad)"
      ]
    },
    {
      "cell_type": "markdown",
      "metadata": {
        "id": "P4l_2p7Lf4po"
      },
      "source": [
        "In order to get familiar with the concept of a computation graph, we will create one for the following function:\n",
        "\n",
        "$$y = \\frac{1}{|x|}\\sum_i \\left[(x_i + 2)^2 + 3\\right]$$\n",
        "\n",
        "You could imagine that $x$ are our parameters, and we want to optimize (either maximize or minimize) the output $y$. For this, we want to obtain the gradients $\\partial y / \\partial \\mathbf{x}$. For our example, we'll use $\\mathbf{x}=[0,1,2]$ as our input."
      ]
    },
    {
      "cell_type": "code",
      "execution_count": null,
      "metadata": {
        "id": "SNg-owW0f4po",
        "outputId": "4e197b87-c9e4-4557-dbff-04f508c0fbef"
      },
      "outputs": [
        {
          "name": "stdout",
          "output_type": "stream",
          "text": [
            "X tensor([0., 1., 2.], requires_grad=True)\n"
          ]
        }
      ],
      "source": [
        "x = torch.arange(3, dtype=torch.float32, requires_grad=True) # Only float tensors can have gradients\n",
        "print(\"X\", x)"
      ]
    },
    {
      "cell_type": "markdown",
      "metadata": {
        "id": "DWQfHJ6Pf4po"
      },
      "source": [
        "Now let's build the computation graph step by step. You can combine multiple operations in a single line, but we will separate them here to get a better understanding of how each operation is added to the computation graph."
      ]
    },
    {
      "cell_type": "code",
      "execution_count": null,
      "metadata": {
        "id": "-A1sIQvKf4pp",
        "outputId": "94eeeec0-ce24-46cd-a4f6-fc123a9fc3df"
      },
      "outputs": [
        {
          "name": "stdout",
          "output_type": "stream",
          "text": [
            "Y tensor(12.6667, grad_fn=<MeanBackward0>)\n"
          ]
        }
      ],
      "source": [
        "a = x + 2\n",
        "b = a ** 2\n",
        "c = b + 3\n",
        "y = c.mean()\n",
        "print(\"Y\", y)"
      ]
    },
    {
      "cell_type": "markdown",
      "metadata": {
        "id": "gDpRvqUcf4pp"
      },
      "source": [
        "Using the statements above, we have created a computation graph that looks similar to the figure below:\n",
        "\n",
        "<center style=\"width: 100%\"><img src=\"https://github.com/phlippe/uvadlc_notebooks/blob/master/docs/tutorial_notebooks/tutorial2/pytorch_computation_graph.svg?raw=1\" width=\"200px\"></center>\n",
        "\n",
        "We calculate $a$ based on the inputs $x$ and the constant $2$, $b$ is $a$ squared, and so on. The visualization is an abstraction of the dependencies between inputs and outputs of the operations we have applied.\n",
        "Each node of the computation graph has automatically defined a function for calculating the gradients with respect to its inputs, `grad_fn`. You can see this when we printed the output tensor $y$. This is why the computation graph is usually visualized in the reverse direction (arrows point from the result to the inputs). We can perform backpropagation on the computation graph by calling the function `backward()` on the last output, which effectively calculates the gradients for each tensor that has the property `requires_grad=True`:"
      ]
    },
    {
      "cell_type": "code",
      "execution_count": null,
      "metadata": {
        "id": "DWPY8qc4f4pp"
      },
      "outputs": [],
      "source": [
        "y.backward()"
      ]
    },
    {
      "cell_type": "markdown",
      "metadata": {
        "id": "nPbjfCo3f4pp"
      },
      "source": [
        "`x.grad` will now contain the gradient $\\partial y/ \\partial \\mathcal{x}$, and this gradient indicates how a change in $\\mathbf{x}$ will affect output $y$ given the current input $\\mathbf{x}=[0,1,2]$:"
      ]
    },
    {
      "cell_type": "code",
      "execution_count": null,
      "metadata": {
        "id": "oPzx137Ef4pp",
        "outputId": "7e16579b-e5a6-470c-d8c7-94c134586706"
      },
      "outputs": [
        {
          "name": "stdout",
          "output_type": "stream",
          "text": [
            "tensor([1.3333, 2.0000, 2.6667])\n"
          ]
        }
      ],
      "source": [
        "print(x.grad)"
      ]
    },
    {
      "cell_type": "markdown",
      "metadata": {
        "id": "7RTa0h7Hf4pp"
      },
      "source": [
        "We can also verify these gradients by hand. We will calculate the gradients using the chain rule, in the same way as PyTorch did it:\n",
        "\n",
        "$$\\frac{\\partial y}{\\partial x_i} = \\frac{\\partial y}{\\partial c_i}\\frac{\\partial c_i}{\\partial b_i}\\frac{\\partial b_i}{\\partial a_i}\\frac{\\partial a_i}{\\partial x_i}$$\n",
        "\n",
        "Note that we have simplified this equation to index notation, and by using the fact that all operation besides the mean do not combine the elements in the tensor. The partial derivatives are:\n",
        "\n",
        "$$\n",
        "\\frac{\\partial a_i}{\\partial x_i} = 1,\\hspace{1cm}\n",
        "\\frac{\\partial b_i}{\\partial a_i} = 2\\cdot a_i\\hspace{1cm}\n",
        "\\frac{\\partial c_i}{\\partial b_i} = 1\\hspace{1cm}\n",
        "\\frac{\\partial y}{\\partial c_i} = \\frac{1}{3}\n",
        "$$\n",
        "\n",
        "Hence, with the input being $\\mathbf{x}=[0,1,2]$, our gradients are $\\partial y/\\partial \\mathbf{x}=[4/3,2,8/3]$. The previous code cell should have printed the same result."
      ]
    },
    {
      "cell_type": "markdown",
      "metadata": {
        "id": "Zbc4rn0xf4pq"
      },
      "source": [
        "### GPU support\n",
        "\n",
        "A crucial feature of PyTorch is the support of GPUs, short for Graphics Processing Unit. A GPU can perform many thousands of small operations in parallel, making it very well suitable for performing large matrix operations in neural networks. When comparing GPUs to CPUs, we can list the following main differences (credit: [Kevin Krewell, 2009](https://blogs.nvidia.com/blog/2009/12/16/whats-the-difference-between-a-cpu-and-a-gpu/)) \n",
        "\n",
        "<center style=\"width: 100%\"><img src=\"https://github.com/phlippe/uvadlc_notebooks/blob/master/docs/tutorial_notebooks/tutorial2/comparison_CPU_GPU.png?raw=1\" width=\"700px\"></center>\n",
        "\n",
        "CPUs and GPUs have both different advantages and disadvantages, which is why many computers contain both components and use them for different tasks. In case you are not familiar with GPUs, you can read up more details in this [NVIDIA blog post](https://blogs.nvidia.com/blog/2009/12/16/whats-the-difference-between-a-cpu-and-a-gpu/) or [here](https://www.intel.com/content/www/us/en/products/docs/processors/what-is-a-gpu.html). \n",
        "\n",
        "GPUs can accelerate the training of your network up to a factor of $100$ which is essential for large neural networks. PyTorch implements a lot of functionality for supporting GPUs (mostly those of NVIDIA due to the libraries [CUDA](https://developer.nvidia.com/cuda-zone) and [cuDNN](https://developer.nvidia.com/cudnn)). First, let's check whether you have a GPU available:"
      ]
    },
    {
      "cell_type": "code",
      "execution_count": null,
      "metadata": {
        "id": "veRl5Ou0f4pq",
        "outputId": "f1f83494-1cd8-4c05-82d7-7e156971b373",
        "colab": {
          "base_uri": "https://localhost:8080/"
        }
      },
      "outputs": [
        {
          "output_type": "stream",
          "name": "stdout",
          "text": [
            "Is the GPU available? True\n"
          ]
        }
      ],
      "source": [
        "gpu_avail = torch.cuda.is_available()\n",
        "print(f\"Is the GPU available? {gpu_avail}\")"
      ]
    },
    {
      "cell_type": "markdown",
      "metadata": {
        "id": "NZD4zswRf4pq"
      },
      "source": [
        "If you have a GPU on your computer but the command above returns False, make sure you have the correct CUDA-version installed. The `dl2022` environment comes with the CUDA 11.7, which is selected for the Lisa supercomputer. Please change it if necessary (CUDA 11.3 is currently common on Colab). On Google Colab, make sure that you have selected a GPU in your runtime setup (in the menu, check under `Runtime -> Change runtime type`). \n",
        "\n",
        "By default, all tensors you create are stored on the CPU. We can push a tensor to the GPU by using the function `.to(...)`, or `.cuda()`. However, it is often a good practice to define a `device` object in your code which points to the GPU if you have one, and otherwise to the CPU. Then, you can write your code with respect to this device object, and it allows you to run the same code on both a CPU-only system, and one with a GPU. Let's try it below. We can specify the device as follows: "
      ]
    },
    {
      "cell_type": "code",
      "execution_count": null,
      "metadata": {
        "id": "Op8VMRMLf4pq",
        "outputId": "bf684143-40dc-4173-cca0-26625f0a6ea8",
        "colab": {
          "base_uri": "https://localhost:8080/"
        }
      },
      "outputs": [
        {
          "output_type": "stream",
          "name": "stdout",
          "text": [
            "Device cuda\n"
          ]
        }
      ],
      "source": [
        "device = torch.device(\"cuda\") if torch.cuda.is_available() else torch.device(\"cpu\")\n",
        "print(\"Device\", device)"
      ]
    },
    {
      "cell_type": "markdown",
      "metadata": {
        "id": "PS29Z7hzf4pq"
      },
      "source": [
        "Now let's create a tensor and push it to the device:"
      ]
    },
    {
      "cell_type": "code",
      "execution_count": null,
      "metadata": {
        "id": "JsHVFE7Df4pr",
        "outputId": "369a62e1-79d3-420b-f03c-24295f22a2a5"
      },
      "outputs": [
        {
          "name": "stdout",
          "output_type": "stream",
          "text": [
            "X tensor([[0., 0., 0.],\n",
            "        [0., 0., 0.]], device='cuda:0')\n"
          ]
        }
      ],
      "source": [
        "x = torch.zeros(2, 3)\n",
        "x = x.to(device)\n",
        "print(\"X\", x)"
      ]
    },
    {
      "cell_type": "markdown",
      "metadata": {
        "id": "QXt-yCkFf4pr"
      },
      "source": [
        "In case you have a GPU, you should now see the attribute `device='cuda:0'` being printed next to your tensor. The zero next to cuda indicates that this is the zero-th GPU device on your computer. PyTorch also supports multi-GPU systems, but this you will only need once you have very big networks to train (if interested, see the [PyTorch documentation](https://pytorch.org/docs/stable/distributed.html#distributed-basics)). We can also compare the runtime of a large matrix multiplication on the CPU with a operation on the GPU:"
      ]
    },
    {
      "cell_type": "code",
      "execution_count": null,
      "metadata": {
        "id": "YoPA8XVNf4pr",
        "outputId": "4a3c6e27-5f08-4a55-ca87-caaeedaa6a84"
      },
      "outputs": [
        {
          "name": "stdout",
          "output_type": "stream",
          "text": [
            "CPU time: 0.20694s\n",
            "GPU time: 0.00985s\n"
          ]
        }
      ],
      "source": [
        "import time\n",
        "\n",
        "x = torch.randn(5000, 5000)\n",
        "\n",
        "## CPU version\n",
        "start_time = time.time()\n",
        "_ = torch.matmul(x, x)\n",
        "end_time = time.time()\n",
        "print(f\"CPU time: {(end_time - start_time):6.5f}s\")\n",
        "\n",
        "## GPU version\n",
        "x = x.to(device)\n",
        "_ = torch.matmul(x, x)  # First operation to 'burn in' GPU\n",
        "# CUDA is asynchronous, so we need to use different timing functions\n",
        "start = torch.cuda.Event(enable_timing=True)\n",
        "end = torch.cuda.Event(enable_timing=True)\n",
        "start.record()\n",
        "_ = torch.matmul(x, x)\n",
        "end.record()\n",
        "torch.cuda.synchronize()  # Waits for everything to finish running on the GPU\n",
        "print(f\"GPU time: {0.001 * start.elapsed_time(end):6.5f}s\")  # Milliseconds to seconds"
      ]
    },
    {
      "cell_type": "markdown",
      "metadata": {
        "id": "tx4jP7vRf4pr"
      },
      "source": [
        "Depending on the size of the operation and the CPU/GPU in your system, the speedup of this operation can be >50x. As `matmul` operations are very common in neural networks, we can already see the great benefit of training a NN on a GPU. The time estimate can be relatively noisy here because we haven't run it for multiple times. Feel free to extend this, but it also takes longer to run.\n",
        "\n",
        "When generating random numbers, the seed between CPU and GPU is not synchronized. Hence, we need to set the seed on the GPU separately to ensure a reproducible code. Note that due to different GPU architectures, running the same code on different GPUs does not guarantee the same random numbers. Still, we don't want that our code gives us a different output every time we run it on the exact same hardware. Hence, we also set the seed on the GPU:"
      ]
    },
    {
      "cell_type": "code",
      "execution_count": null,
      "metadata": {
        "id": "bwwf2X26f4pr"
      },
      "outputs": [],
      "source": [
        "# GPU operations have a separate seed we also want to set\n",
        "if torch.cuda.is_available(): \n",
        "    torch.cuda.manual_seed(42)\n",
        "    torch.cuda.manual_seed_all(42)\n",
        "    \n",
        "# Additionally, some operations on a GPU are implemented stochastic for efficiency\n",
        "# We want to ensure that all operations are deterministic on GPU (if used) for reproducibility\n",
        "torch.backends.cudnn.deterministic = True\n",
        "torch.backends.cudnn.benchmark = False"
      ]
    },
    {
      "cell_type": "markdown",
      "metadata": {
        "id": "iqWdnNtOf4ps"
      },
      "source": [
        "## Learning by example: Positive/negative numbers\n",
        "\n",
        "If we want to build a neural network in PyTorch, we could specify all our parameters (weight matrices, bias vectors) using `Tensors` (with `requires_grad=True`), ask PyTorch to calculate the gradients and then adjust the parameters. But things can quickly get cumbersome if we have a lot of parameters. In PyTorch, there is a package called `torch.nn` that makes building neural networks more convenient. \n",
        "\n",
        "We will introduce the libraries and all additional parts you might need to train a neural network in PyTorch, using a simple example classifier on a simple problem: is the sum of two numbers even or odd? Given 2 numbers $x_1$ and $x_2$, the goal is to predict label $1$ if $x_1+x_2$ is positive and $0$ if it is negative. For simplicity, you can assume zero to be positive.\n",
        "\n",
        "(NN on the board)\n",
        "\n",
        "(Pipeline on the board)\n"
      ]
    },
    {
      "cell_type": "markdown",
      "metadata": {
        "id": "XKC3vyekf4ps"
      },
      "source": [
        "### The model\n",
        "\n",
        "The package `torch.nn` defines a series of useful classes like linear networks layers, activation functions, loss functions etc. A full list can be found [here](https://pytorch.org/docs/stable/nn.html). In case you need a certain network layer, check the documentation of the package first before writing the layer yourself as the package likely contains the code for it already. We import it below:"
      ]
    },
    {
      "cell_type": "code",
      "execution_count": null,
      "metadata": {
        "id": "XL_N-0eTf4ps"
      },
      "outputs": [],
      "source": [
        "import torch.nn as nn"
      ]
    },
    {
      "cell_type": "markdown",
      "metadata": {
        "id": "e4ADmYXKf4ps"
      },
      "source": [
        "Additionally to `torch.nn`, there is also `torch.nn.functional`. It contains functions that are used in network layers. This is in contrast to `torch.nn` which defines them as `nn.Modules` (more on it below), and `torch.nn` actually uses a lot of functionalities from `torch.nn.functional`. Hence, the functional package is useful in many situations, and so we import it as well here."
      ]
    },
    {
      "cell_type": "code",
      "execution_count": null,
      "metadata": {
        "id": "LVK8vZDzf4ps"
      },
      "outputs": [],
      "source": [
        "import torch.nn.functional as F"
      ]
    },
    {
      "cell_type": "markdown",
      "metadata": {
        "id": "93zX29iNf4ps"
      },
      "source": [
        "#### nn.Module\n",
        "\n",
        "In PyTorch, a neural network is built up out of modules. Modules can contain other modules, and a neural network is considered to be a module itself as well. The basic template of a module is as follows:"
      ]
    },
    {
      "cell_type": "code",
      "execution_count": null,
      "metadata": {
        "id": "hXSnSictf4pt"
      },
      "outputs": [],
      "source": [
        "class MyModule(nn.Module):\n",
        "    \n",
        "    def __init__(self):\n",
        "        super().__init__()\n",
        "        # Some init for my module\n",
        "        \n",
        "    def forward(self, x):\n",
        "        # Function for performing the calculation of the module.\n",
        "        pass"
      ]
    },
    {
      "cell_type": "markdown",
      "metadata": {
        "id": "Q5tqjJMaf4pt"
      },
      "source": [
        "The forward function is where the computation of the module is taken place, and is executed when you call the module (`nn = MyModule(); nn(x)`). In the init function, we usually create the parameters of the module, using `nn.Parameter`, or defining other modules that are used in the forward function. The backward calculation is done automatically, but could be overwritten as well if wanted.\n",
        "\n",
        "#### Simple classifier\n",
        "We can now make use of the pre-defined modules in the `torch.nn` package, and define our own small neural network. We will use a minimal network with a input layer, one hidden layer with tanh as activation function, and a output layer. In other words, our networks should look something like this: (look at the board in the class!)\n"
      ]
    },
    {
      "cell_type": "code",
      "execution_count": null,
      "metadata": {
        "id": "sNuu65uof4pt"
      },
      "outputs": [],
      "source": [
        "class SimpleClassifier(nn.Module):\n",
        "\n",
        "    def __init__(self, num_inputs, num_hidden, num_outputs):\n",
        "        super().__init__()\n",
        "        # Initialize the modules we need to build the network\n",
        "        self.linear1 = nn.Linear(num_inputs, num_hidden)\n",
        "        self.act_fn = nn.Tanh()\n",
        "        self.linear2 = nn.Linear(num_hidden, num_outputs)\n",
        "\n",
        "    def forward(self, x):\n",
        "        # Perform the calculation of the model to determine the prediction\n",
        "        x = self.linear1(x)\n",
        "        x = self.act_fn(x)\n",
        "        output = self.linear2(x)\n",
        "        # where is softmax?\n",
        "        return output"
      ]
    },
    {
      "cell_type": "markdown",
      "metadata": {
        "id": "gWwD1oKPf4pt"
      },
      "source": [
        "For the examples in this notebook, we will use a tiny neural network with two input neurons and four hidden neurons. As we perform binary classification, we will use a single output neuron. Note that we do not apply a sigmoid on the output yet. This is because other functions, especially the loss, are more efficient and precise to calculate on the original outputs instead of the sigmoid output. We will discuss the detailed reason later."
      ]
    },
    {
      "cell_type": "code",
      "execution_count": null,
      "metadata": {
        "id": "gVAitHcPf4pt",
        "outputId": "b0d5c772-c006-4899-b1a9-7ad1e2190d2c",
        "colab": {
          "base_uri": "https://localhost:8080/"
        }
      },
      "outputs": [
        {
          "output_type": "stream",
          "name": "stdout",
          "text": [
            "SimpleClassifier(\n",
            "  (linear1): Linear(in_features=2, out_features=4, bias=True)\n",
            "  (act_fn): Tanh()\n",
            "  (linear2): Linear(in_features=4, out_features=2, bias=True)\n",
            ")\n"
          ]
        }
      ],
      "source": [
        "model = SimpleClassifier(num_inputs=2, num_hidden=4, num_outputs=2)\n",
        "# Printing a module shows all its submodules\n",
        "print(model)"
      ]
    },
    {
      "cell_type": "markdown",
      "metadata": {
        "id": "XSlZ5B-Ef4pu"
      },
      "source": [
        "Printing the model lists all submodules it contains. The parameters of a module can be obtained by using its `parameters()` functions, or `named_parameters()` to get a name to each parameter object. For our small neural network, we have the following parameters:"
      ]
    },
    {
      "cell_type": "code",
      "execution_count": null,
      "metadata": {
        "id": "Zxi9ivrJf4pu",
        "outputId": "d4941967-3910-4b3c-e85e-2df0f076e9a6",
        "colab": {
          "base_uri": "https://localhost:8080/"
        }
      },
      "outputs": [
        {
          "output_type": "stream",
          "name": "stdout",
          "text": [
            "Parameter linear1.weight, shape torch.Size([4, 2])\n",
            "True\n",
            "Parameter linear1.bias, shape torch.Size([4])\n",
            "True\n",
            "Parameter linear2.weight, shape torch.Size([2, 4])\n",
            "True\n",
            "Parameter linear2.bias, shape torch.Size([2])\n",
            "True\n"
          ]
        }
      ],
      "source": [
        "for name, param in model.named_parameters():\n",
        "    print(f\"Parameter {name}, shape {param.shape}\")\n",
        "    param.requires_grad_(True)\n",
        "    print(param.requires_grad)"
      ]
    },
    {
      "cell_type": "markdown",
      "metadata": {
        "id": "sAxYAHsVf4pu"
      },
      "source": [
        "Each linear layer has a weight matrix of the shape `[output, input]`, and a bias of the shape `[output]`. The tanh activation function does not have any parameters. Note that parameters are only registered for `nn.Module` objects that are direct object attributes, i.e. `self.a = ...`. If you define a list of modules, the parameters of those are not registered for the outer module and can cause some issues when you try to optimize your module. There are alternatives, like `nn.ModuleList`, `nn.ModuleDict` and `nn.Sequential`, that allow you to have different data structures of modules. We will use them in a few later tutorials and explain them there. "
      ]
    },
    {
      "cell_type": "markdown",
      "metadata": {
        "id": "inqhKpMFf4pu"
      },
      "source": [
        "### The data\n",
        "\n",
        "PyTorch also provides a few functionalities to load the training and test data efficiently, summarized in the package `torch.utils.data`."
      ]
    },
    {
      "cell_type": "code",
      "execution_count": null,
      "metadata": {
        "id": "b8HzTj82f4pu"
      },
      "outputs": [],
      "source": [
        "import torch.utils.data as data"
      ]
    },
    {
      "cell_type": "markdown",
      "metadata": {
        "id": "B9SiiUIEf4pu"
      },
      "source": [
        "The data package defines two classes which are the standard interface for handling data in PyTorch: `data.Dataset`, and `data.DataLoader`. The dataset class provides an uniform interface to access the training/test data, while the data loader makes sure to efficiently load and stack the data points from the dataset into batches during training."
      ]
    },
    {
      "cell_type": "markdown",
      "metadata": {
        "id": "n0ddhaPWf4pv"
      },
      "source": [
        "#### The dataset class\n",
        "\n",
        "The dataset class summarizes the basic functionality of a dataset in a natural way. To define a dataset in PyTorch, we simply specify two functions: `__getitem__`, and `__len__`. The get-item function has to return the $i$-th data point in the dataset, while the len function returns the size of the dataset. For the our case, we can define the dataset class as follows:"
      ]
    },
    {
      "cell_type": "code",
      "execution_count": null,
      "metadata": {
        "id": "kBvp23Ldf4pv"
      },
      "outputs": [],
      "source": [
        "class CustomDataset(data.Dataset):\n",
        "\n",
        "    def __init__(self, size, max_range=1000):\n",
        "        \"\"\"\n",
        "        Inputs:\n",
        "            size - Number of data points we want to generate\n",
        "        \"\"\"\n",
        "        super().__init__()\n",
        "        self.size = size\n",
        "        self.max_range = max_range\n",
        "        self._generate_sample_data()\n",
        "\n",
        "    def _generate_sample_data(self):\n",
        "        data = torch.randint(low=-self.max_range, high=self.max_range, size=(self.size, 2), dtype=torch.float32)\n",
        "        label = (data.sum(dim=1) >= 0).to(torch.float)\n",
        "\n",
        "        self.data = data\n",
        "        self.label = label\n",
        "\n",
        "    def __len__(self):\n",
        "        # Number of data point we have. Alternatively self.data.shape[0], or self.label.shape[0]\n",
        "        return self.size\n",
        "\n",
        "    def __getitem__(self, idx):\n",
        "        # Return the idx-th data point of the dataset\n",
        "        # If we have multiple things to return (data point and label), we can return them as tuple\n",
        "        data_point = self.data[idx]\n",
        "        data_label = self.label[idx]\n",
        "        return data_point, data_label"
      ]
    },
    {
      "cell_type": "markdown",
      "metadata": {
        "id": "u_k7G44rf4pv"
      },
      "source": [
        "Let's try to create such a dataset and inspect it:"
      ]
    },
    {
      "cell_type": "code",
      "execution_count": null,
      "metadata": {
        "id": "GKGbM4cEf4pv",
        "outputId": "66b70287-8151-45ee-8ef8-c827fded8aa5",
        "colab": {
          "base_uri": "https://localhost:8080/"
        }
      },
      "outputs": [
        {
          "output_type": "stream",
          "name": "stdout",
          "text": [
            "Size of dataset: 200\n",
            "Data point 0: (tensor([711., 313.]), tensor(1.))\n"
          ]
        }
      ],
      "source": [
        "dataset = CustomDataset(size=200)\n",
        "print(\"Size of dataset:\", len(dataset))\n",
        "print(\"Data point 0:\", dataset[0])"
      ]
    },
    {
      "cell_type": "markdown",
      "metadata": {
        "id": "hRhugf2Lf4pv"
      },
      "source": [
        "To better relate to the dataset, we visualize the samples below. "
      ]
    },
    {
      "cell_type": "code",
      "execution_count": null,
      "metadata": {
        "id": "D1Lad39If4pw"
      },
      "outputs": [],
      "source": [
        "from matplotlib import pyplot as plt\n",
        "\n",
        "def visualize_samples(data, label):\n",
        "    if isinstance(data, torch.Tensor):\n",
        "        data = data.detach().numpy()\n",
        "    if isinstance(label, torch.Tensor):\n",
        "        label = label.detach().numpy()\n",
        "    data_0 = data[label == 0]\n",
        "    data_1 = data[label == 1]\n",
        "    \n",
        "    plt.figure(figsize=(4,4))\n",
        "    plt.scatter(data_0[:,0], data_0[:,1], edgecolor=\"#333\", label=\"Class 0\")\n",
        "    plt.scatter(data_1[:,0], data_1[:,1], edgecolor=\"#333\", label=\"Class 1\")\n",
        "    plt.title(\"Dataset samples\")\n",
        "    plt.ylabel(r\"$x_2$\")\n",
        "    plt.xlabel(r\"$x_1$\")\n",
        "    plt.legend()"
      ]
    },
    {
      "cell_type": "code",
      "execution_count": null,
      "metadata": {
        "id": "_crJDO7jf4pw",
        "outputId": "db842150-57cd-4337-eca3-68dfe0e2909e",
        "colab": {
          "base_uri": "https://localhost:8080/",
          "height": 411
        }
      },
      "outputs": [
        {
          "output_type": "display_data",
          "data": {
            "text/plain": [
              "<Figure size 400x400 with 1 Axes>"
            ],
            "image/png": "[encoded data removed]"
          },
          "metadata": {}
        }
      ],
      "source": [
        "visualize_samples(dataset.data, dataset.label)\n",
        "plt.show()"
      ]
    },
    {
      "cell_type": "markdown",
      "metadata": {
        "id": "lTqCSmzmf4pw"
      },
      "source": [
        "#### The data loader class\n",
        "\n",
        "The class `torch.utils.data.DataLoader` represents a Python iterable over a dataset with support for automatic batching, multi-process data loading and many more features. The data loader communicates with the dataset using the function `__getitem__`, and stacks its outputs as tensors over the first dimension to form a batch.\n",
        "In contrast to the dataset class, we usually don't have to define our own data loader class, but can just create an object of it with the dataset as input. Additionally, we can configure our data loader with the following input arguments (only a selection, see full list [here](https://pytorch.org/docs/stable/data.html#torch.utils.data.DataLoader)):\n",
        "\n",
        "* `batch_size`: Number of samples to stack per batch\n",
        "* `shuffle`: If True, the data is returned in a random order. This is important during training for introducing stochasticity. \n",
        "* `num_workers`: Number of subprocesses to use for data loading. The default, 0, means that the data will be loaded in the main process which can slow down training for datasets where loading a data point takes a considerable amount of time (e.g. large images). More workers are recommended for those, but can cause issues on Windows computers. For tiny datasets as ours, 0 workers are usually faster.\n",
        "* `pin_memory`: If True, the data loader will copy Tensors into CUDA pinned memory before returning them. This can save some time for large data points on GPUs. Usually a good practice to use for a training set, but not necessarily for validation and test to save memory on the GPU.\n",
        "* `drop_last`: If True, the last batch is dropped in case it is smaller than the specified batch size. This occurs when the dataset size is not a multiple of the batch size. Only potentially helpful during training to keep a consistent batch size.\n",
        "\n",
        "Let's create a simple data loader below:"
      ]
    },
    {
      "cell_type": "code",
      "execution_count": null,
      "metadata": {
        "id": "Q_lmpulhf4pw"
      },
      "outputs": [],
      "source": [
        "data_loader = data.DataLoader(dataset, batch_size=8, shuffle=True)"
      ]
    },
    {
      "cell_type": "code",
      "execution_count": null,
      "metadata": {
        "id": "Dwj2E2D9f4pw",
        "outputId": "1517586f-06b0-479d-d7da-7da7fe8d2550",
        "colab": {
          "base_uri": "https://localhost:8080/"
        }
      },
      "outputs": [
        {
          "output_type": "stream",
          "name": "stdout",
          "text": [
            "Data inputs torch.Size([8, 2]) \n",
            " tensor([[-682.,  708.],\n",
            "        [-807., -908.],\n",
            "        [-364.,  973.],\n",
            "        [-462.,  209.],\n",
            "        [-146., -183.],\n",
            "        [ -92.,  798.],\n",
            "        [ 470.,  157.],\n",
            "        [ 775.,  521.]])\n",
            "Data labels torch.Size([8]) \n",
            " tensor([1., 0., 1., 0., 0., 1., 1., 1.])\n"
          ]
        }
      ],
      "source": [
        "# next(iter(...)) catches the first batch of the data loader\n",
        "# If shuffle is True, this will return a different batch every time we run this cell\n",
        "# For iterating over the whole dataset, we can simple use \"for batch in data_loader: ...\"\n",
        "data_inputs, data_labels = next(iter(data_loader))\n",
        "\n",
        "# The shape of the outputs are [batch_size, d_1,...,d_N] where d_1,...,d_N are the \n",
        "# dimensions of the data point returned from the dataset class\n",
        "print(\"Data inputs\", data_inputs.shape, \"\\n\", data_inputs)\n",
        "print(\"Data labels\", data_labels.shape, \"\\n\", data_labels)"
      ]
    },
    {
      "cell_type": "markdown",
      "metadata": {
        "id": "evn-ByFmf4px"
      },
      "source": [
        "### Optimization\n",
        "\n",
        "After defining the model and the dataset, it is time to prepare the optimization of the model. During training, we will perform the following steps:\n",
        "\n",
        "1. Get a batch from the data loader\n",
        "2. Obtain the predictions from the model for the batch\n",
        "3. Calculate the loss based on the difference between predictions and labels\n",
        "4. Backpropagation: calculate the gradients for every parameter with respect to the loss\n",
        "5. Update the parameters of the model in the direction of the gradients\n",
        "\n",
        "We have seen how we can do step 1, 2 and 4 in PyTorch. Now, we will look at step 3 and 5."
      ]
    },
    {
      "cell_type": "markdown",
      "metadata": {
        "id": "gVZDRXUCf4px"
      },
      "source": [
        "#### Loss modules\n",
        "\n",
        "We can calculate the loss for a batch by simply performing a few tensor operations as those are automatically added to the computation graph. For instance, for classification, we can use Cross Entropy loss. PyTorch already provides a list of predefined loss functions which we can use (see [here](https://pytorch.org/docs/stable/nn.html#loss-functions) for a full list). For instance, for CE, PyTorch has: `nn.CrossEntropyLoss()`. "
      ]
    },
    {
      "cell_type": "code",
      "execution_count": null,
      "metadata": {
        "id": "xOcMDcoxf4px"
      },
      "outputs": [],
      "source": [
        "loss_module = nn.CrossEntropyLoss()"
      ]
    },
    {
      "cell_type": "markdown",
      "metadata": {
        "id": "B7cQS2nBf4px"
      },
      "source": [
        "#### Stochastic Gradient Descent\n",
        "\n",
        "For updating the parameters, PyTorch provides the package `torch.optim` that has most popular optimizers implemented. We will discuss the specific optimizers and their differences later in the course, but will for now use the simplest of them: `torch.optim.SGD`. Stochastic Gradient Descent updates parameters by multiplying the gradients with a small constant, called learning rate, and subtracting those from the parameters (hence minimizing the loss). Therefore, we slowly move towards the direction of minimizing the loss. A good default value of the learning rate for a small network as ours is 0.1. "
      ]
    },
    {
      "cell_type": "code",
      "execution_count": null,
      "metadata": {
        "id": "9UT8gj6Ef4py"
      },
      "outputs": [],
      "source": [
        "# Input to the optimizer are the parameters of the model: model.parameters()\n",
        "optimizer = torch.optim.SGD(model.parameters(), lr=0.001)"
      ]
    },
    {
      "cell_type": "markdown",
      "metadata": {
        "id": "BMgBLCbFf4py"
      },
      "source": [
        "The optimizer provides two useful functions: `optimizer.step()`, and `optimizer.zero_grad()`. The step function updates the parameters based on the gradients as explained above. The function `optimizer.zero_grad()` sets the gradients of all parameters to zero. While this function seems less relevant at first, it is a crucial pre-step before performing backpropagation. If we call the `backward` function on the loss while the parameter gradients are non-zero from the previous batch, the new gradients would actually be added to the previous ones instead of overwriting them. This is done because a parameter might occur multiple times in a computation graph, and we need to sum the gradients in this case instead of replacing them. Hence, remember to call `optimizer.zero_grad()` before calculating the gradients of a batch."
      ]
    },
    {
      "cell_type": "markdown",
      "metadata": {
        "id": "haEMWqhef4py"
      },
      "source": [
        "### Training\n",
        "\n",
        "Finally, we are ready to train our model. As a first step, we create a slightly larger dataset and specify a data loader with a larger batch size. "
      ]
    },
    {
      "cell_type": "code",
      "execution_count": null,
      "metadata": {
        "id": "NtuK6rQzf4py"
      },
      "outputs": [],
      "source": [
        "train_dataset = CustomDataset(size=2500)\n",
        "train_data_loader = data.DataLoader(train_dataset, batch_size=128, shuffle=True)"
      ]
    },
    {
      "cell_type": "markdown",
      "metadata": {
        "id": "z7BqbKNNf4pz"
      },
      "source": [
        "Now, we can write a small training function. Remember our five steps: load a batch, obtain the predictions, calculate the loss, backpropagate, and update. Additionally, we have to push all data and model parameters to the device of our choice (GPU if available). For the tiny neural network we have, communicating the data to the GPU actually takes much more time than we could save from running the operation on GPU. For large networks, the communication time is significantly smaller than the actual runtime making a GPU crucial in these cases. Still, to practice, we will push the data to GPU here. "
      ]
    },
    {
      "cell_type": "code",
      "execution_count": null,
      "metadata": {
        "id": "P9TrMBc-f4pz",
        "outputId": "712744d1-972a-413c-ad4b-2bbbcac9dcdf",
        "colab": {
          "base_uri": "https://localhost:8080/"
        }
      },
      "outputs": [
        {
          "output_type": "execute_result",
          "data": {
            "text/plain": [
              "SimpleClassifier(\n",
              "  (linear1): Linear(in_features=2, out_features=4, bias=True)\n",
              "  (act_fn): Tanh()\n",
              "  (linear2): Linear(in_features=4, out_features=2, bias=True)\n",
              ")"
            ]
          },
          "metadata": {},
          "execution_count": 24
        }
      ],
      "source": [
        "# Push model to device. Has to be only done once\n",
        "model.to(device)"
      ]
    },
    {
      "cell_type": "markdown",
      "metadata": {
        "id": "CQelTF91f4pz"
      },
      "source": [
        "In addition, we set our model to training mode. This is done by calling `model.train()`. There exist certain modules that need to perform a different forward step during training than during testing (e.g. BatchNorm and Dropout), and we can switch between them using `model.train()` and `model.eval()`."
      ]
    },
    {
      "cell_type": "code",
      "execution_count": null,
      "metadata": {
        "id": "nEm13Hx0f4pz"
      },
      "outputs": [],
      "source": [
        "from tqdm import tqdm\n",
        "\n",
        "def train_model(model, optimizer, data_loader, loss_module, num_epochs=100):\n",
        "    # Set model to train mode\n",
        "    model.train() \n",
        "    \n",
        "    # Training loop\n",
        "    for epoch in tqdm(range(num_epochs)):\n",
        "        for idx, (data_inputs, data_labels) in enumerate(data_loader):\n",
        "            # Before calculating the gradients, we need to ensure that they are all zero. \n",
        "            # The gradients would not be overwritten, but actually added to the existing ones.\n",
        "            optimizer.zero_grad()\n",
        "            \n",
        "            ## Move input data to device (only strictly necessary if we use GPU)\n",
        "            data_inputs = data_inputs.to(device)\n",
        "            data_labels = data_labels.to(device)\n",
        "            \n",
        "            ## Run the model on the input data\n",
        "            preds = model(data_inputs)\n",
        "\n",
        "            ## Calculate the loss\n",
        "            loss = loss_module(preds, data_labels.to(torch.int64))\n",
        "            print(f' |{idx:5d}/{len(data_loader):5d} batches | loss: {loss:.3}')\n",
        " \n",
        "            # Perform backpropagation\n",
        "            loss.backward()\n",
        "            \n",
        "            ## Update the parameters\n",
        "            optimizer.step()"
      ]
    },
    {
      "cell_type": "code",
      "execution_count": null,
      "metadata": {
        "id": "fupBvqeZf4pz",
        "outputId": "1dcb840f-f429-4179-ce1a-b97dd586f8c5",
        "colab": {
          "base_uri": "https://localhost:8080/"
        }
      },
      "outputs": [
        {
          "output_type": "stream",
          "name": "stderr",
          "text": [
            "  4%|▍         | 4/100 [00:02<00:52,  1.81it/s]"
          ]
        },
        {
          "output_type": "stream",
          "name": "stdout",
          "text": [
            " |    0/   20 batches | loss: 0.617\n",
            " |    1/   20 batches | loss: 0.692\n",
            " |    2/   20 batches | loss: 0.622\n",
            " |    3/   20 batches | loss: 0.594\n",
            " |    4/   20 batches | loss: 0.682\n",
            " |    5/   20 batches | loss: 0.62\n",
            " |    6/   20 batches | loss: 0.703\n",
            " |    7/   20 batches | loss: 0.634\n",
            " |    8/   20 batches | loss: 0.762\n",
            " |    9/   20 batches | loss: 0.685\n",
            " |   10/   20 batches | loss: 0.759\n",
            " |   11/   20 batches | loss: 0.503\n",
            " |   12/   20 batches | loss: 0.654\n",
            " |   13/   20 batches | loss: 0.69\n",
            " |   14/   20 batches | loss: 0.654\n",
            " |   15/   20 batches | loss: 0.665\n",
            " |   16/   20 batches | loss: 0.628\n",
            " |   17/   20 batches | loss: 0.659\n",
            " |   18/   20 batches | loss: 0.693\n",
            " |   19/   20 batches | loss: 0.632\n",
            " |    0/   20 batches | loss: 0.703\n",
            " |    1/   20 batches | loss: 0.627\n",
            " |    2/   20 batches | loss: 0.624\n",
            " |    3/   20 batches | loss: 0.568\n",
            " |    4/   20 batches | loss: 0.607\n",
            " |    5/   20 batches | loss: 0.681\n",
            " |    6/   20 batches | loss: 0.629\n",
            " |    7/   20 batches | loss: 0.565\n",
            " |    8/   20 batches | loss: 0.623\n",
            " |    9/   20 batches | loss: 0.675\n",
            " |   10/   20 batches | loss: 0.642\n",
            " |   11/   20 batches | loss: 0.68\n",
            " |   12/   20 batches | loss: 0.569\n",
            " |   13/   20 batches | loss: 0.635\n",
            " |   14/   20 batches | loss: 0.677\n",
            " |   15/   20 batches | loss: 0.613\n",
            " |   16/   20 batches | loss: 0.606\n",
            " |   17/   20 batches | loss: 0.591\n",
            " |   18/   20 batches | loss: 0.664\n",
            " |   19/   20 batches | loss: 0.57\n",
            " |    0/   20 batches | loss: 0.573\n",
            " |    1/   20 batches | loss: 0.645\n",
            " |    2/   20 batches | loss: 0.636\n",
            " |    3/   20 batches | loss: 0.693\n",
            " |    4/   20 batches | loss: 0.619\n",
            " |    5/   20 batches | loss: 0.56\n",
            " |    6/   20 batches | loss: 0.564\n",
            " |    7/   20 batches | loss: 0.601\n",
            " |    8/   20 batches | loss: 0.605\n",
            " |    9/   20 batches | loss: 0.622\n",
            " |   10/   20 batches | loss: 0.6\n",
            " |   11/   20 batches | loss: 0.557\n",
            " |   12/   20 batches | loss: 0.659\n",
            " |   13/   20 batches | loss: 0.536\n",
            " |   14/   20 batches | loss: 0.645\n",
            " |   15/   20 batches | loss: 0.444\n",
            " |   16/   20 batches | loss: 0.56\n",
            " |   17/   20 batches | loss: 0.594\n",
            " |   18/   20 batches | loss: 0.573\n",
            " |   19/   20 batches | loss: 0.572\n",
            " |    0/   20 batches | loss: 0.521\n",
            " |    1/   20 batches | loss: 0.547\n",
            " |    2/   20 batches | loss: 0.558\n",
            " |    3/   20 batches | loss: 0.588\n",
            " |    4/   20 batches | loss: 0.651\n",
            " |    5/   20 batches | loss: 0.561\n",
            " |    6/   20 batches | loss: 0.621\n",
            " |    7/   20 batches | loss: 0.553\n",
            " |    8/   20 batches | loss: 0.56\n",
            " |    9/   20 batches | loss: 0.53\n",
            " |   10/   20 batches | loss: 0.572\n",
            " |   11/   20 batches | loss: 0.483\n",
            " |   12/   20 batches | loss: 0.567\n",
            " |   13/   20 batches | loss: 0.642\n",
            " |   14/   20 batches | loss: 0.58\n",
            " |   15/   20 batches | loss: 0.581\n",
            " |   16/   20 batches | loss: 0.489\n",
            " |   17/   20 batches | loss: 0.591\n",
            " |   18/   20 batches | loss: 0.613\n",
            " |   19/   20 batches | loss: 0.62\n",
            " |    0/   20 batches | loss: 0.557\n",
            " |    1/   20 batches | loss: 0.52\n",
            " |    2/   20 batches | loss: 0.588\n",
            " |    3/   20 batches | loss: 0.531\n",
            " |    4/   20 batches | loss: 0.524\n"
          ]
        },
        {
          "output_type": "stream",
          "name": "stderr",
          "text": [
            "\r  7%|▋         | 7/100 [00:02<00:25,  3.59it/s]"
          ]
        },
        {
          "output_type": "stream",
          "name": "stdout",
          "text": [
            " |    5/   20 batches | loss: 0.522\n",
            " |    6/   20 batches | loss: 0.563\n",
            " |    7/   20 batches | loss: 0.533\n",
            " |    8/   20 batches | loss: 0.595\n",
            " |    9/   20 batches | loss: 0.537\n",
            " |   10/   20 batches | loss: 0.548\n",
            " |   11/   20 batches | loss: 0.588\n",
            " |   12/   20 batches | loss: 0.565\n",
            " |   13/   20 batches | loss: 0.595\n",
            " |   14/   20 batches | loss: 0.562\n",
            " |   15/   20 batches | loss: 0.503\n",
            " |   16/   20 batches | loss: 0.515\n",
            " |   17/   20 batches | loss: 0.544\n",
            " |   18/   20 batches | loss: 0.553\n",
            " |   19/   20 batches | loss: 0.582\n",
            " |    0/   20 batches | loss: 0.641\n",
            " |    1/   20 batches | loss: 0.528\n",
            " |    2/   20 batches | loss: 0.516\n",
            " |    3/   20 batches | loss: 0.55\n",
            " |    4/   20 batches | loss: 0.488\n",
            " |    5/   20 batches | loss: 0.494\n",
            " |    6/   20 batches | loss: 0.488\n",
            " |    7/   20 batches | loss: 0.546\n",
            " |    8/   20 batches | loss: 0.54\n",
            " |    9/   20 batches | loss: 0.599\n",
            " |   10/   20 batches | loss: 0.529\n",
            " |   11/   20 batches | loss: 0.578\n",
            " |   12/   20 batches | loss: 0.56\n",
            " |   13/   20 batches | loss: 0.484\n",
            " |   14/   20 batches | loss: 0.533\n",
            " |   15/   20 batches | loss: 0.472\n",
            " |   16/   20 batches | loss: 0.552\n",
            " |   17/   20 batches | loss: 0.475\n",
            " |   18/   20 batches | loss: 0.491\n",
            " |   19/   20 batches | loss: 0.455\n",
            " |    0/   20 batches | loss: 0.474\n",
            " |    1/   20 batches | loss: 0.468\n",
            " |    2/   20 batches | loss: 0.505\n",
            " |    3/   20 batches | loss: 0.523\n",
            " |    4/   20 batches | loss: 0.463\n",
            " |    5/   20 batches | loss: 0.448\n",
            " |    6/   20 batches | loss: 0.575\n",
            " |    7/   20 batches | loss: 0.462\n",
            " |    8/   20 batches | loss: 0.471\n",
            " |    9/   20 batches | loss: 0.505\n",
            " |   10/   20 batches | loss: 0.542\n",
            " |   11/   20 batches | loss: 0.516\n",
            " |   12/   20 batches | loss: 0.49\n",
            " |   13/   20 batches | loss: 0.492\n",
            " |   14/   20 batches | loss: 0.522\n",
            " |   15/   20 batches | loss: 0.509\n",
            " |   16/   20 batches | loss: 0.483\n",
            " |   17/   20 batches | loss: 0.426\n",
            " |   18/   20 batches | loss: 0.515\n",
            " |   19/   20 batches | loss: 0.479\n",
            " |    0/   20 batches | loss: 0.526\n",
            " |    1/   20 batches | loss: 0.519\n",
            " |    2/   20 batches | loss: 0.466\n",
            " |    3/   20 batches | loss: 0.424\n",
            " |    4/   20 batches | loss: 0.455\n",
            " |    5/   20 batches | loss: 0.499\n",
            " |    6/   20 batches | loss: 0.447\n",
            " |    7/   20 batches | loss: 0.472\n",
            " |    8/   20 batches | loss: 0.532\n",
            " |    9/   20 batches | loss: 0.456\n",
            " |   10/   20 batches | loss: 0.471\n",
            " |   11/   20 batches | loss: 0.464\n",
            " |   12/   20 batches | loss: 0.462\n",
            " |   13/   20 batches | loss: 0.436\n",
            " |   14/   20 batches | loss: 0.468\n",
            " |   15/   20 batches | loss: 0.45\n",
            " |   16/   20 batches | loss: 0.41\n",
            " |   17/   20 batches | loss: 0.416\n",
            " |   18/   20 batches | loss: 0.427\n",
            " |   19/   20 batches | loss: 0.459\n",
            " |    0/   20 batches | loss: 0.396\n",
            " |    1/   20 batches | loss: 0.432\n",
            " |    2/   20 batches | loss: 0.404\n",
            " |    3/   20 batches | loss: 0.462\n",
            " |    4/   20 batches | loss: 0.472\n",
            " |    5/   20 batches | loss: 0.386\n",
            " |    6/   20 batches | loss: 0.407\n",
            " |    7/   20 batches | loss: 0.444\n",
            " |    8/   20 batches | loss: 0.41\n",
            " |    9/   20 batches | loss: 0.384\n",
            " |   10/   20 batches | loss: 0.424\n",
            " |   11/   20 batches | loss: 0.454\n",
            " |   12/   20 batches | loss: 0.407\n",
            " |   13/   20 batches | loss: 0.419\n",
            " |   14/   20 batches | loss: 0.421\n",
            " |   15/   20 batches | loss: 0.426\n",
            " |   16/   20 batches | loss: 0.444\n",
            " |   17/   20 batches | loss: 0.4\n",
            " |   18/   20 batches | loss: 0.45\n",
            " |   19/   20 batches | loss: 0.422\n",
            " |    0/   20 batches | loss: 0.453\n",
            " |    1/   20 batches | loss: 0.388\n",
            " |    2/   20 batches | loss: 0.405\n"
          ]
        },
        {
          "output_type": "stream",
          "name": "stderr",
          "text": [
            " 13%|█▎        | 13/100 [00:03<00:10,  8.08it/s]"
          ]
        },
        {
          "output_type": "stream",
          "name": "stdout",
          "text": [
            " |    3/   20 batches | loss: 0.403\n",
            " |    4/   20 batches | loss: 0.416\n",
            " |    5/   20 batches | loss: 0.455\n",
            " |    6/   20 batches | loss: 0.422\n",
            " |    7/   20 batches | loss: 0.398\n",
            " |    8/   20 batches | loss: 0.397\n",
            " |    9/   20 batches | loss: 0.418\n",
            " |   10/   20 batches | loss: 0.389\n",
            " |   11/   20 batches | loss: 0.41\n",
            " |   12/   20 batches | loss: 0.459\n",
            " |   13/   20 batches | loss: 0.414\n",
            " |   14/   20 batches | loss: 0.454\n",
            " |   15/   20 batches | loss: 0.406\n",
            " |   16/   20 batches | loss: 0.395\n",
            " |   17/   20 batches | loss: 0.4\n",
            " |   18/   20 batches | loss: 0.369\n",
            " |   19/   20 batches | loss: 0.41\n",
            " |    0/   20 batches | loss: 0.387\n",
            " |    1/   20 batches | loss: 0.392\n",
            " |    2/   20 batches | loss: 0.404\n",
            " |    3/   20 batches | loss: 0.409\n",
            " |    4/   20 batches | loss: 0.415\n",
            " |    5/   20 batches | loss: 0.432\n",
            " |    6/   20 batches | loss: 0.395\n",
            " |    7/   20 batches | loss: 0.401\n",
            " |    8/   20 batches | loss: 0.404\n",
            " |    9/   20 batches | loss: 0.382\n",
            " |   10/   20 batches | loss: 0.392\n",
            " |   11/   20 batches | loss: 0.406\n",
            " |   12/   20 batches | loss: 0.438\n",
            " |   13/   20 batches | loss: 0.382\n",
            " |   14/   20 batches | loss: 0.43\n",
            " |   15/   20 batches | loss: 0.417\n",
            " |   16/   20 batches | loss: 0.384\n",
            " |   17/   20 batches | loss: 0.369\n",
            " |   18/   20 batches | loss: 0.435\n",
            " |   19/   20 batches | loss: 0.37\n",
            " |    0/   20 batches | loss: 0.408\n",
            " |    1/   20 batches | loss: 0.427\n",
            " |    2/   20 batches | loss: 0.384\n",
            " |    3/   20 batches | loss: 0.414\n",
            " |    4/   20 batches | loss: 0.369\n",
            " |    5/   20 batches | loss: 0.384\n",
            " |    6/   20 batches | loss: 0.376\n",
            " |    7/   20 batches | loss: 0.384\n",
            " |    8/   20 batches | loss: 0.361\n",
            " |    9/   20 batches | loss: 0.383\n",
            " |   10/   20 batches | loss: 0.447\n",
            " |   11/   20 batches | loss: 0.385\n",
            " |   12/   20 batches | loss: 0.384\n",
            " |   13/   20 batches | loss: 0.382\n",
            " |   14/   20 batches | loss: 0.375\n",
            " |   15/   20 batches | loss: 0.423\n",
            " |   16/   20 batches | loss: 0.377\n",
            " |   17/   20 batches | loss: 0.405\n",
            " |   18/   20 batches | loss: 0.406\n",
            " |   19/   20 batches | loss: 0.369\n",
            " |    0/   20 batches | loss: 0.431\n",
            " |    1/   20 batches | loss: 0.392\n",
            " |    2/   20 batches | loss: 0.394\n",
            " |    3/   20 batches | loss: 0.38\n",
            " |    4/   20 batches | loss: 0.363\n",
            " |    5/   20 batches | loss: 0.384\n",
            " |    6/   20 batches | loss: 0.358\n",
            " |    7/   20 batches | loss: 0.39\n",
            " |    8/   20 batches | loss: 0.39\n",
            " |    9/   20 batches | loss: 0.371\n",
            " |   10/   20 batches | loss: 0.363\n",
            " |   11/   20 batches | loss: 0.4\n",
            " |   12/   20 batches | loss: 0.402\n",
            " |   13/   20 batches | loss: 0.374\n",
            " |   14/   20 batches | loss: 0.394\n",
            " |   15/   20 batches | loss: 0.369\n",
            " |   16/   20 batches | loss: 0.387\n",
            " |   17/   20 batches | loss: 0.376\n",
            " |   18/   20 batches | loss: 0.401\n",
            " |   19/   20 batches | loss: 0.336\n",
            " |    0/   20 batches | loss: 0.393\n",
            " |    1/   20 batches | loss: 0.385\n",
            " |    2/   20 batches | loss: 0.389\n",
            " |    3/   20 batches | loss: 0.409\n",
            " |    4/   20 batches | loss: 0.339\n",
            " |    5/   20 batches | loss: 0.387\n",
            " |    6/   20 batches | loss: 0.374\n",
            " |    7/   20 batches | loss: 0.376\n",
            " |    8/   20 batches | loss: 0.403\n",
            " |    9/   20 batches | loss: 0.361\n",
            " |   10/   20 batches | loss: 0.359\n",
            " |   11/   20 batches | loss: 0.365\n",
            " |   12/   20 batches | loss: 0.374\n",
            " |   13/   20 batches | loss: 0.381\n",
            " |   14/   20 batches | loss: 0.343\n",
            " |   15/   20 batches | loss: 0.379\n",
            " |   16/   20 batches | loss: 0.362\n",
            " |   17/   20 batches | loss: 0.349\n",
            " |   18/   20 batches | loss: 0.378\n",
            " |   19/   20 batches | loss: 0.427\n"
          ]
        },
        {
          "output_type": "stream",
          "name": "stderr",
          "text": [
            " 19%|█▉        | 19/100 [00:03<00:06, 13.07it/s]"
          ]
        },
        {
          "output_type": "stream",
          "name": "stdout",
          "text": [
            " |    0/   20 batches | loss: 0.4\n",
            " |    1/   20 batches | loss: 0.359\n",
            " |    2/   20 batches | loss: 0.337\n",
            " |    3/   20 batches | loss: 0.354\n",
            " |    4/   20 batches | loss: 0.346\n",
            " |    5/   20 batches | loss: 0.378\n",
            " |    6/   20 batches | loss: 0.353\n",
            " |    7/   20 batches | loss: 0.351\n",
            " |    8/   20 batches | loss: 0.415\n",
            " |    9/   20 batches | loss: 0.384\n",
            " |   10/   20 batches | loss: 0.39\n",
            " |   11/   20 batches | loss: 0.362\n",
            " |   12/   20 batches | loss: 0.356\n",
            " |   13/   20 batches | loss: 0.354\n",
            " |   14/   20 batches | loss: 0.386\n",
            " |   15/   20 batches | loss: 0.372\n",
            " |   16/   20 batches | loss: 0.368\n",
            " |   17/   20 batches | loss: 0.34\n",
            " |   18/   20 batches | loss: 0.366\n",
            " |   19/   20 batches | loss: 0.386\n",
            " |    0/   20 batches | loss: 0.354\n",
            " |    1/   20 batches | loss: 0.356\n",
            " |    2/   20 batches | loss: 0.384\n",
            " |    3/   20 batches | loss: 0.37\n",
            " |    4/   20 batches | loss: 0.351\n",
            " |    5/   20 batches | loss: 0.359\n",
            " |    6/   20 batches | loss: 0.377\n",
            " |    7/   20 batches | loss: 0.375\n",
            " |    8/   20 batches | loss: 0.357\n",
            " |    9/   20 batches | loss: 0.33\n",
            " |   10/   20 batches | loss: 0.366\n",
            " |   11/   20 batches | loss: 0.339\n",
            " |   12/   20 batches | loss: 0.358\n",
            " |   13/   20 batches | loss: 0.339\n",
            " |   14/   20 batches | loss: 0.373\n",
            " |   15/   20 batches | loss: 0.347\n",
            " |   16/   20 batches | loss: 0.372\n",
            " |   17/   20 batches | loss: 0.346\n",
            " |   18/   20 batches | loss: 0.363\n",
            " |   19/   20 batches | loss: 0.362\n",
            " |    0/   20 batches | loss: 0.342\n",
            " |    1/   20 batches | loss: 0.369\n",
            " |    2/   20 batches | loss: 0.356\n",
            " |    3/   20 batches | loss: 0.34\n",
            " |    4/   20 batches | loss: 0.36\n",
            " |    5/   20 batches | loss: 0.319\n",
            " |    6/   20 batches | loss: 0.339\n",
            " |    7/   20 batches | loss: 0.375\n",
            " |    8/   20 batches | loss: 0.344\n",
            " |    9/   20 batches | loss: 0.377\n",
            " |   10/   20 batches | loss: 0.349\n",
            " |   11/   20 batches | loss: 0.371\n",
            " |   12/   20 batches | loss: 0.355\n",
            " |   13/   20 batches | loss: 0.365\n",
            " |   14/   20 batches | loss: 0.32\n",
            " |   15/   20 batches | loss: 0.341\n",
            " |   16/   20 batches | loss: 0.324\n",
            " |   17/   20 batches | loss: 0.355\n",
            " |   18/   20 batches | loss: 0.36\n",
            " |   19/   20 batches | loss: 0.372\n",
            " |    0/   20 batches | loss: 0.354\n",
            " |    1/   20 batches | loss: 0.34\n",
            " |    2/   20 batches | loss: 0.307\n",
            " |    3/   20 batches | loss: 0.32\n",
            " |    4/   20 batches | loss: 0.347\n",
            " |    5/   20 batches | loss: 0.367\n",
            " |    6/   20 batches | loss: 0.354\n",
            " |    7/   20 batches | loss: 0.349\n",
            " |    8/   20 batches | loss: 0.336\n",
            " |    9/   20 batches | loss: 0.358\n",
            " |   10/   20 batches | loss: 0.375\n",
            " |   11/   20 batches | loss: 0.36\n",
            " |   12/   20 batches | loss: 0.342\n",
            " |   13/   20 batches | loss: 0.334\n",
            " |   14/   20 batches | loss: 0.336\n",
            " |   15/   20 batches | loss: 0.343\n",
            " |   16/   20 batches | loss: 0.355\n",
            " |   17/   20 batches | loss: 0.324\n",
            " |   18/   20 batches | loss: 0.336\n",
            " |   19/   20 batches | loss: 0.35\n",
            " |    0/   20 batches | loss: 0.342\n",
            " |    1/   20 batches | loss: 0.337\n",
            " |    2/   20 batches | loss: 0.346\n",
            " |    3/   20 batches | loss: 0.343\n",
            " |    4/   20 batches | loss: 0.367\n",
            " |    5/   20 batches | loss: 0.364\n",
            " |    6/   20 batches | loss: 0.318\n",
            " |    7/   20 batches | loss: 0.313\n",
            " |    8/   20 batches | loss: 0.321\n",
            " |    9/   20 batches | loss: 0.327\n",
            " |   10/   20 batches | loss: 0.349\n",
            " |   11/   20 batches | loss: 0.367\n",
            " |   12/   20 batches | loss: 0.338\n",
            " |   13/   20 batches | loss: 0.331\n",
            " |   14/   20 batches | loss: 0.35\n",
            " |   15/   20 batches | loss: 0.324\n",
            " |   16/   20 batches | loss: 0.334\n",
            " |   17/   20 batches | loss: 0.332\n",
            " |   18/   20 batches | loss: 0.343\n",
            " |   19/   20 batches | loss: 0.312\n",
            " |    0/   20 batches | loss: 0.339\n"
          ]
        },
        {
          "output_type": "stream",
          "name": "stderr",
          "text": [
            "\r 22%|██▏       | 22/100 [00:03<00:05, 15.23it/s]"
          ]
        },
        {
          "output_type": "stream",
          "name": "stdout",
          "text": [
            " |    1/   20 batches | loss: 0.34\n",
            " |    2/   20 batches | loss: 0.353\n",
            " |    3/   20 batches | loss: 0.322\n",
            " |    4/   20 batches | loss: 0.346\n",
            " |    5/   20 batches | loss: 0.342\n",
            " |    6/   20 batches | loss: 0.329\n",
            " |    7/   20 batches | loss: 0.357\n",
            " |    8/   20 batches | loss: 0.316\n",
            " |    9/   20 batches | loss: 0.364\n",
            " |   10/   20 batches | loss: 0.306\n",
            " |   11/   20 batches | loss: 0.323\n",
            " |   12/   20 batches | loss: 0.312\n",
            " |   13/   20 batches | loss: 0.306\n",
            " |   14/   20 batches | loss: 0.344\n",
            " |   15/   20 batches | loss: 0.284\n",
            " |   16/   20 batches | loss: 0.34\n",
            " |   17/   20 batches | loss: 0.297\n",
            " |   18/   20 batches | loss: 0.356\n",
            " |   19/   20 batches | loss: 0.35\n",
            " |    0/   20 batches | loss: 0.295\n",
            " |    1/   20 batches | loss: 0.317\n",
            " |    2/   20 batches | loss: 0.329\n",
            " |    3/   20 batches | loss: 0.302\n",
            " |    4/   20 batches | loss: 0.346\n",
            " |    5/   20 batches | loss: 0.331\n",
            " |    6/   20 batches | loss: 0.319\n",
            " |    7/   20 batches | loss: 0.314\n",
            " |    8/   20 batches | loss: 0.373\n",
            " |    9/   20 batches | loss: 0.319\n",
            " |   10/   20 batches | loss: 0.323\n",
            " |   11/   20 batches | loss: 0.329\n",
            " |   12/   20 batches | loss: 0.329\n",
            " |   13/   20 batches | loss: 0.306\n",
            " |   14/   20 batches | loss: 0.336\n",
            " |   15/   20 batches | loss: 0.305\n",
            " |   16/   20 batches | loss: 0.346\n",
            " |   17/   20 batches | loss: 0.332\n",
            " |   18/   20 batches | loss: 0.341\n",
            " |   19/   20 batches | loss: 0.304\n",
            " |    0/   20 batches | loss: 0.32\n",
            " |    1/   20 batches | loss: 0.31\n",
            " |    2/   20 batches | loss: 0.322\n",
            " |    3/   20 batches | loss: 0.332\n",
            " |    4/   20 batches | loss: 0.326\n",
            " |    5/   20 batches | loss: 0.322\n",
            " |    6/   20 batches | loss: 0.314\n",
            " |    7/   20 batches | loss: 0.341\n",
            " |    8/   20 batches | loss: 0.321\n",
            " |    9/   20 batches | loss: 0.342\n",
            " |   10/   20 batches | loss: 0.336\n",
            " |   11/   20 batches | loss: 0.295\n",
            " |   12/   20 batches | loss: 0.336\n",
            " |   13/   20 batches | loss: 0.312\n",
            " |   14/   20 batches | loss: 0.306\n",
            " |   15/   20 batches | loss: 0.31\n",
            " |   16/   20 batches | loss: 0.305\n",
            " |   17/   20 batches | loss: 0.307\n",
            " |   18/   20 batches | loss: 0.324\n",
            " |   19/   20 batches | loss: 0.311\n",
            " |    0/   20 batches | loss: 0.321\n",
            " |    1/   20 batches | loss: 0.324\n",
            " |    2/   20 batches | loss: 0.343\n",
            " |    3/   20 batches | loss: 0.318\n",
            " |    4/   20 batches | loss: 0.313\n",
            " |    5/   20 batches | loss: 0.317\n",
            " |    6/   20 batches | loss: 0.292\n",
            " |    7/   20 batches | loss: 0.282\n",
            " |    8/   20 batches | loss: 0.307\n",
            " |    9/   20 batches | loss: 0.319\n",
            " |   10/   20 batches | loss: 0.301\n",
            " |   11/   20 batches | loss: 0.298\n",
            " |   12/   20 batches | loss: 0.294\n",
            " |   13/   20 batches | loss: 0.354\n",
            " |   14/   20 batches | loss: 0.308\n",
            " |   15/   20 batches | loss: 0.32\n",
            " |   16/   20 batches | loss: 0.304\n",
            " |   17/   20 batches | loss: 0.322\n",
            " |   18/   20 batches | loss: 0.298\n",
            " |   19/   20 batches | loss: 0.333\n",
            " |    0/   20 batches | loss: 0.287\n",
            " |    1/   20 batches | loss: 0.31\n",
            " |    2/   20 batches | loss: 0.313\n",
            " |    3/   20 batches | loss: 0.312\n",
            " |    4/   20 batches | loss: 0.319\n",
            " |    5/   20 batches | loss: 0.305\n",
            " |    6/   20 batches | loss: 0.34\n",
            " |    7/   20 batches | loss: 0.289\n",
            " |    8/   20 batches | loss: 0.296\n",
            " |    9/   20 batches | loss: 0.312\n",
            " |   10/   20 batches | loss: 0.292\n",
            " |   11/   20 batches | loss: 0.316\n",
            " |   12/   20 batches | loss: 0.305\n",
            " |   13/   20 batches | loss: 0.307\n",
            " |   14/   20 batches | loss: 0.307\n",
            " |   15/   20 batches | loss: 0.299\n",
            " |   16/   20 batches | loss: 0.297\n",
            " |   17/   20 batches | loss: 0.306\n",
            " |   18/   20 batches | loss: 0.31\n",
            " |   19/   20 batches | loss: 0.314\n"
          ]
        },
        {
          "output_type": "stream",
          "name": "stderr",
          "text": [
            " 28%|██▊       | 28/100 [00:03<00:03, 19.25it/s]"
          ]
        },
        {
          "output_type": "stream",
          "name": "stdout",
          "text": [
            " |    0/   20 batches | loss: 0.287\n",
            " |    1/   20 batches | loss: 0.306\n",
            " |    2/   20 batches | loss: 0.282\n",
            " |    3/   20 batches | loss: 0.297\n",
            " |    4/   20 batches | loss: 0.294\n",
            " |    5/   20 batches | loss: 0.314\n",
            " |    6/   20 batches | loss: 0.293\n",
            " |    7/   20 batches | loss: 0.307\n",
            " |    8/   20 batches | loss: 0.314\n",
            " |    9/   20 batches | loss: 0.303\n",
            " |   10/   20 batches | loss: 0.323\n",
            " |   11/   20 batches | loss: 0.306\n",
            " |   12/   20 batches | loss: 0.298\n",
            " |   13/   20 batches | loss: 0.305\n",
            " |   14/   20 batches | loss: 0.296\n",
            " |   15/   20 batches | loss: 0.282\n",
            " |   16/   20 batches | loss: 0.319\n",
            " |   17/   20 batches | loss: 0.312\n",
            " |   18/   20 batches | loss: 0.281\n",
            " |   19/   20 batches | loss: 0.336\n",
            " |    0/   20 batches | loss: 0.293\n",
            " |    1/   20 batches | loss: 0.3\n",
            " |    2/   20 batches | loss: 0.312\n",
            " |    3/   20 batches | loss: 0.282\n",
            " |    4/   20 batches | loss: 0.29\n",
            " |    5/   20 batches | loss: 0.277\n",
            " |    6/   20 batches | loss: 0.308\n",
            " |    7/   20 batches | loss: 0.306\n",
            " |    8/   20 batches | loss: 0.282\n",
            " |    9/   20 batches | loss: 0.303\n",
            " |   10/   20 batches | loss: 0.318\n",
            " |   11/   20 batches | loss: 0.273\n",
            " |   12/   20 batches | loss: 0.303\n",
            " |   13/   20 batches | loss: 0.296\n",
            " |   14/   20 batches | loss: 0.28\n",
            " |   15/   20 batches | loss: 0.286\n",
            " |   16/   20 batches | loss: 0.291\n",
            " |   17/   20 batches | loss: 0.304\n",
            " |   18/   20 batches | loss: 0.295\n",
            " |   19/   20 batches | loss: 0.321\n",
            " |    0/   20 batches | loss: 0.296\n",
            " |    1/   20 batches | loss: 0.284\n",
            " |    2/   20 batches | loss: 0.29\n",
            " |    3/   20 batches | loss: 0.302\n",
            " |    4/   20 batches | loss: 0.288\n",
            " |    5/   20 batches | loss: 0.286\n",
            " |    6/   20 batches | loss: 0.244\n",
            " |    7/   20 batches | loss: 0.285\n",
            " |    8/   20 batches | loss: 0.295\n",
            " |    9/   20 batches | loss: 0.28\n",
            " |   10/   20 batches | loss: 0.297\n",
            " |   11/   20 batches | loss: 0.297\n",
            " |   12/   20 batches | loss: 0.314\n",
            " |   13/   20 batches | loss: 0.298\n",
            " |   14/   20 batches | loss: 0.285\n",
            " |   15/   20 batches | loss: 0.294\n",
            " |   16/   20 batches | loss: 0.298\n",
            " |   17/   20 batches | loss: 0.28\n",
            " |   18/   20 batches | loss: 0.314\n",
            " |   19/   20 batches | loss: 0.274\n",
            " |    0/   20 batches | loss: 0.298\n",
            " |    1/   20 batches | loss: 0.287\n",
            " |    2/   20 batches | loss: 0.273\n",
            " |    3/   20 batches | loss: 0.248\n",
            " |    4/   20 batches | loss: 0.278\n",
            " |    5/   20 batches | loss: 0.293\n",
            " |    6/   20 batches | loss: 0.277\n",
            " |    7/   20 batches | loss: 0.267\n",
            " |    8/   20 batches | loss: 0.284\n",
            " |    9/   20 batches | loss: 0.288\n",
            " |   10/   20 batches | loss: 0.303\n",
            " |   11/   20 batches | loss: 0.281\n",
            " |   12/   20 batches | loss: 0.307\n",
            " |   13/   20 batches | loss: 0.292\n",
            " |   14/   20 batches | loss: 0.301\n",
            " |   15/   20 batches | loss: 0.292\n",
            " |   16/   20 batches | loss: 0.285\n",
            " |   17/   20 batches | loss: 0.278\n",
            " |   18/   20 batches | loss: 0.261\n",
            " |   19/   20 batches | loss: 0.271\n",
            " |    0/   20 batches | loss: 0.281\n",
            " |    1/   20 batches | loss: 0.296\n",
            " |    2/   20 batches | loss: 0.275\n",
            " |    3/   20 batches | loss: 0.26\n",
            " |    4/   20 batches | loss: 0.26\n",
            " |    5/   20 batches | loss: 0.305\n",
            " |    6/   20 batches | loss: 0.252\n",
            " |    7/   20 batches | loss: 0.298\n",
            " |    8/   20 batches | loss: 0.285\n",
            " |    9/   20 batches | loss: 0.257\n",
            " |   10/   20 batches | loss: 0.297\n",
            " |   11/   20 batches | loss: 0.259\n",
            " |   12/   20 batches | loss: 0.274\n",
            " |   13/   20 batches | loss: 0.288\n",
            " |   14/   20 batches | loss: 0.267\n",
            " |   15/   20 batches | loss: 0.297\n",
            " |   16/   20 batches | loss: 0.259\n",
            " |   17/   20 batches | loss: 0.287\n",
            " |   18/   20 batches | loss: 0.29\n",
            " |   19/   20 batches | loss: 0.292\n",
            " |    0/   20 batches | loss: 0.237\n",
            " |    1/   20 batches | loss: 0.283\n"
          ]
        },
        {
          "output_type": "stream",
          "name": "stderr",
          "text": [
            " 34%|███▍      | 34/100 [00:04<00:03, 21.58it/s]"
          ]
        },
        {
          "output_type": "stream",
          "name": "stdout",
          "text": [
            " |    2/   20 batches | loss: 0.291\n",
            " |    3/   20 batches | loss: 0.27\n",
            " |    4/   20 batches | loss: 0.297\n",
            " |    5/   20 batches | loss: 0.253\n",
            " |    6/   20 batches | loss: 0.264\n",
            " |    7/   20 batches | loss: 0.28\n",
            " |    8/   20 batches | loss: 0.266\n",
            " |    9/   20 batches | loss: 0.267\n",
            " |   10/   20 batches | loss: 0.28\n",
            " |   11/   20 batches | loss: 0.275\n",
            " |   12/   20 batches | loss: 0.248\n",
            " |   13/   20 batches | loss: 0.263\n",
            " |   14/   20 batches | loss: 0.285\n",
            " |   15/   20 batches | loss: 0.282\n",
            " |   16/   20 batches | loss: 0.287\n",
            " |   17/   20 batches | loss: 0.287\n",
            " |   18/   20 batches | loss: 0.253\n",
            " |   19/   20 batches | loss: 0.263\n",
            " |    0/   20 batches | loss: 0.278\n",
            " |    1/   20 batches | loss: 0.238\n",
            " |    2/   20 batches | loss: 0.29\n",
            " |    3/   20 batches | loss: 0.282\n",
            " |    4/   20 batches | loss: 0.264\n",
            " |    5/   20 batches | loss: 0.274\n",
            " |    6/   20 batches | loss: 0.286\n",
            " |    7/   20 batches | loss: 0.261\n",
            " |    8/   20 batches | loss: 0.277\n",
            " |    9/   20 batches | loss: 0.257\n",
            " |   10/   20 batches | loss: 0.237\n",
            " |   11/   20 batches | loss: 0.263\n",
            " |   12/   20 batches | loss: 0.267\n",
            " |   13/   20 batches | loss: 0.256\n",
            " |   14/   20 batches | loss: 0.269\n",
            " |   15/   20 batches | loss: 0.249\n",
            " |   16/   20 batches | loss: 0.271\n",
            " |   17/   20 batches | loss: 0.249\n",
            " |   18/   20 batches | loss: 0.27\n",
            " |   19/   20 batches | loss: 0.276\n",
            " |    0/   20 batches | loss: 0.273\n",
            " |    1/   20 batches | loss: 0.259\n",
            " |    2/   20 batches | loss: 0.262\n",
            " |    3/   20 batches | loss: 0.255\n",
            " |    4/   20 batches | loss: 0.26\n",
            " |    5/   20 batches | loss: 0.267\n",
            " |    6/   20 batches | loss: 0.287\n",
            " |    7/   20 batches | loss: 0.227\n",
            " |    8/   20 batches | loss: 0.239\n",
            " |    9/   20 batches | loss: 0.296\n",
            " |   10/   20 batches | loss: 0.266\n",
            " |   11/   20 batches | loss: 0.27\n",
            " |   12/   20 batches | loss: 0.279\n",
            " |   13/   20 batches | loss: 0.266\n",
            " |   14/   20 batches | loss: 0.275\n",
            " |   15/   20 batches | loss: 0.262\n",
            " |   16/   20 batches | loss: 0.261\n",
            " |   17/   20 batches | loss: 0.242\n",
            " |   18/   20 batches | loss: 0.249\n",
            " |   19/   20 batches | loss: 0.255\n",
            " |    0/   20 batches | loss: 0.285\n",
            " |    1/   20 batches | loss: 0.245\n",
            " |    2/   20 batches | loss: 0.275\n",
            " |    3/   20 batches | loss: 0.264\n",
            " |    4/   20 batches | loss: 0.243\n",
            " |    5/   20 batches | loss: 0.27\n",
            " |    6/   20 batches | loss: 0.26\n",
            " |    7/   20 batches | loss: 0.257\n",
            " |    8/   20 batches | loss: 0.261\n",
            " |    9/   20 batches | loss: 0.229\n",
            " |   10/   20 batches | loss: 0.265\n",
            " |   11/   20 batches | loss: 0.249\n",
            " |   12/   20 batches | loss: 0.246\n",
            " |   13/   20 batches | loss: 0.284\n",
            " |   14/   20 batches | loss: 0.261\n",
            " |   15/   20 batches | loss: 0.263\n",
            " |   16/   20 batches | loss: 0.255\n",
            " |   17/   20 batches | loss: 0.257\n",
            " |   18/   20 batches | loss: 0.251\n",
            " |   19/   20 batches | loss: 0.23\n",
            " |    0/   20 batches | loss: 0.262\n",
            " |    1/   20 batches | loss: 0.25\n",
            " |    2/   20 batches | loss: 0.24\n",
            " |    3/   20 batches | loss: 0.264\n",
            " |    4/   20 batches | loss: 0.271\n",
            " |    5/   20 batches | loss: 0.276\n",
            " |    6/   20 batches | loss: 0.249\n",
            " |    7/   20 batches | loss: 0.249\n",
            " |    8/   20 batches | loss: 0.261\n",
            " |    9/   20 batches | loss: 0.254\n",
            " |   10/   20 batches | loss: 0.256\n",
            " |   11/   20 batches | loss: 0.246\n",
            " |   12/   20 batches | loss: 0.248\n",
            " |   13/   20 batches | loss: 0.257\n",
            " |   14/   20 batches | loss: 0.252\n",
            " |   15/   20 batches | loss: 0.252\n",
            " |   16/   20 batches | loss: 0.25\n",
            " |   17/   20 batches | loss: 0.256\n",
            " |   18/   20 batches | loss: 0.264\n",
            " |   19/   20 batches | loss: 0.237\n",
            " |    0/   20 batches | loss: 0.284\n"
          ]
        },
        {
          "output_type": "stream",
          "name": "stderr",
          "text": [
            "\r 37%|███▋      | 37/100 [00:04<00:02, 22.10it/s]"
          ]
        },
        {
          "output_type": "stream",
          "name": "stdout",
          "text": [
            " |    1/   20 batches | loss: 0.234\n",
            " |    2/   20 batches | loss: 0.237\n",
            " |    3/   20 batches | loss: 0.262\n",
            " |    4/   20 batches | loss: 0.251\n",
            " |    5/   20 batches | loss: 0.254\n",
            " |    6/   20 batches | loss: 0.252\n",
            " |    7/   20 batches | loss: 0.247\n",
            " |    8/   20 batches | loss: 0.261\n",
            " |    9/   20 batches | loss: 0.263\n",
            " |   10/   20 batches | loss: 0.244\n",
            " |   11/   20 batches | loss: 0.235\n",
            " |   12/   20 batches | loss: 0.254\n",
            " |   13/   20 batches | loss: 0.252\n",
            " |   14/   20 batches | loss: 0.247\n",
            " |   15/   20 batches | loss: 0.24\n",
            " |   16/   20 batches | loss: 0.254\n",
            " |   17/   20 batches | loss: 0.24\n",
            " |   18/   20 batches | loss: 0.255\n",
            " |   19/   20 batches | loss: 0.219\n",
            " |    0/   20 batches | loss: 0.256\n",
            " |    1/   20 batches | loss: 0.245\n",
            " |    2/   20 batches | loss: 0.231\n",
            " |    3/   20 batches | loss: 0.233\n",
            " |    4/   20 batches | loss: 0.268\n",
            " |    5/   20 batches | loss: 0.25\n",
            " |    6/   20 batches | loss: 0.244\n",
            " |    7/   20 batches | loss: 0.25\n",
            " |    8/   20 batches | loss: 0.259\n",
            " |    9/   20 batches | loss: 0.253\n",
            " |   10/   20 batches | loss: 0.242\n",
            " |   11/   20 batches | loss: 0.227\n",
            " |   12/   20 batches | loss: 0.249\n",
            " |   13/   20 batches | loss: 0.251\n",
            " |   14/   20 batches | loss: 0.276\n",
            " |   15/   20 batches | loss: 0.214\n",
            " |   16/   20 batches | loss: 0.252\n",
            " |   17/   20 batches | loss: 0.234\n",
            " |   18/   20 batches | loss: 0.257\n",
            " |   19/   20 batches | loss: 0.26\n",
            " |    0/   20 batches | loss: 0.26\n",
            " |    1/   20 batches | loss: 0.265\n",
            " |    2/   20 batches | loss: 0.226\n",
            " |    3/   20 batches | loss: 0.241\n",
            " |    4/   20 batches | loss: 0.255\n",
            " |    5/   20 batches | loss: 0.249\n",
            " |    6/   20 batches | loss: 0.242\n",
            " |    7/   20 batches | loss: 0.247\n",
            " |    8/   20 batches | loss: 0.249\n",
            " |    9/   20 batches | loss: 0.24\n",
            " |   10/   20 batches | loss: 0.233\n",
            " |   11/   20 batches | loss: 0.231\n",
            " |   12/   20 batches | loss: 0.268\n",
            " |   13/   20 batches | loss: 0.233\n",
            " |   14/   20 batches | loss: 0.232\n",
            " |   15/   20 batches | loss: 0.251\n",
            " |   16/   20 batches | loss: 0.247\n",
            " |   17/   20 batches | loss: 0.243\n",
            " |   18/   20 batches | loss: 0.222\n",
            " |   19/   20 batches | loss: 0.241\n",
            " |    0/   20 batches | loss: 0.225\n",
            " |    1/   20 batches | loss: 0.244\n",
            " |    2/   20 batches | loss: 0.231\n",
            " |    3/   20 batches | loss: 0.225\n",
            " |    4/   20 batches | loss: 0.243\n",
            " |    5/   20 batches | loss: 0.236\n",
            " |    6/   20 batches | loss: 0.251\n",
            " |    7/   20 batches | loss: 0.22\n",
            " |    8/   20 batches | loss: 0.232\n",
            " |    9/   20 batches | loss: 0.258\n",
            " |   10/   20 batches | loss: 0.233\n",
            " |   11/   20 batches | loss: 0.249\n",
            " |   12/   20 batches | loss: 0.254\n",
            " |   13/   20 batches | loss: 0.219\n",
            " |   14/   20 batches | loss: 0.258\n",
            " |   15/   20 batches | loss: 0.252\n",
            " |   16/   20 batches | loss: 0.234\n",
            " |   17/   20 batches | loss: 0.217\n",
            " |   18/   20 batches | loss: 0.236\n",
            " |   19/   20 batches | loss: 0.252\n",
            " |    0/   20 batches | loss: 0.224\n",
            " |    1/   20 batches | loss: 0.235\n",
            " |    2/   20 batches | loss: 0.241\n",
            " |    3/   20 batches | loss: 0.262\n",
            " |    4/   20 batches | loss: 0.227\n",
            " |    5/   20 batches | loss: 0.23\n",
            " |    6/   20 batches | loss: 0.25\n",
            " |    7/   20 batches | loss: 0.247\n",
            " |    8/   20 batches | loss: 0.228\n",
            " |    9/   20 batches | loss: 0.21\n",
            " |   10/   20 batches | loss: 0.245\n",
            " |   11/   20 batches | loss: 0.227\n",
            " |   12/   20 batches | loss: 0.244\n",
            " |   13/   20 batches | loss: 0.243\n",
            " |   14/   20 batches | loss: 0.23\n",
            " |   15/   20 batches | loss: 0.223\n",
            " |   16/   20 batches | loss: 0.22\n",
            " |   17/   20 batches | loss: 0.23\n",
            " |   18/   20 batches | loss: 0.24\n",
            " |   19/   20 batches | loss: 0.245\n"
          ]
        },
        {
          "output_type": "stream",
          "name": "stderr",
          "text": [
            " 43%|████▎     | 43/100 [00:04<00:02, 23.34it/s]"
          ]
        },
        {
          "output_type": "stream",
          "name": "stdout",
          "text": [
            " |    0/   20 batches | loss: 0.229\n",
            " |    1/   20 batches | loss: 0.205\n",
            " |    2/   20 batches | loss: 0.229\n",
            " |    3/   20 batches | loss: 0.244\n",
            " |    4/   20 batches | loss: 0.226\n",
            " |    5/   20 batches | loss: 0.228\n",
            " |    6/   20 batches | loss: 0.257\n",
            " |    7/   20 batches | loss: 0.211\n",
            " |    8/   20 batches | loss: 0.245\n",
            " |    9/   20 batches | loss: 0.221\n",
            " |   10/   20 batches | loss: 0.254\n",
            " |   11/   20 batches | loss: 0.208\n",
            " |   12/   20 batches | loss: 0.241\n",
            " |   13/   20 batches | loss: 0.208\n",
            " |   14/   20 batches | loss: 0.226\n",
            " |   15/   20 batches | loss: 0.216\n",
            " |   16/   20 batches | loss: 0.241\n",
            " |   17/   20 batches | loss: 0.239\n",
            " |   18/   20 batches | loss: 0.256\n",
            " |   19/   20 batches | loss: 0.239\n",
            " |    0/   20 batches | loss: 0.225\n",
            " |    1/   20 batches | loss: 0.216\n",
            " |    2/   20 batches | loss: 0.222\n",
            " |    3/   20 batches | loss: 0.213\n",
            " |    4/   20 batches | loss: 0.206\n",
            " |    5/   20 batches | loss: 0.216\n",
            " |    6/   20 batches | loss: 0.228\n",
            " |    7/   20 batches | loss: 0.215\n",
            " |    8/   20 batches | loss: 0.232\n",
            " |    9/   20 batches | loss: 0.228\n",
            " |   10/   20 batches | loss: 0.244\n",
            " |   11/   20 batches | loss: 0.228\n",
            " |   12/   20 batches | loss: 0.23\n",
            " |   13/   20 batches | loss: 0.24\n",
            " |   14/   20 batches | loss: 0.236\n",
            " |   15/   20 batches | loss: 0.228\n",
            " |   16/   20 batches | loss: 0.248\n",
            " |   17/   20 batches | loss: 0.224\n",
            " |   18/   20 batches | loss: 0.227\n",
            " |   19/   20 batches | loss: 0.226\n",
            " |    0/   20 batches | loss: 0.23\n",
            " |    1/   20 batches | loss: 0.241\n",
            " |    2/   20 batches | loss: 0.23\n",
            " |    3/   20 batches | loss: 0.236\n",
            " |    4/   20 batches | loss: 0.222\n",
            " |    5/   20 batches | loss: 0.218\n",
            " |    6/   20 batches | loss: 0.225\n",
            " |    7/   20 batches | loss: 0.217\n",
            " |    8/   20 batches | loss: 0.225\n",
            " |    9/   20 batches | loss: 0.213\n",
            " |   10/   20 batches | loss: 0.232\n",
            " |   11/   20 batches | loss: 0.212\n",
            " |   12/   20 batches | loss: 0.206\n",
            " |   13/   20 batches | loss: 0.223\n",
            " |   14/   20 batches | loss: 0.218\n",
            " |   15/   20 batches | loss: 0.233\n",
            " |   16/   20 batches | loss: 0.224\n",
            " |   17/   20 batches | loss: 0.217\n",
            " |   18/   20 batches | loss: 0.232\n",
            " |   19/   20 batches | loss: 0.221\n",
            " |    0/   20 batches | loss: 0.226\n",
            " |    1/   20 batches | loss: 0.219\n",
            " |    2/   20 batches | loss: 0.2\n",
            " |    3/   20 batches | loss: 0.221\n",
            " |    4/   20 batches | loss: 0.238\n",
            " |    5/   20 batches | loss: 0.202\n",
            " |    6/   20 batches | loss: 0.214\n",
            " |    7/   20 batches | loss: 0.214\n",
            " |    8/   20 batches | loss: 0.22\n",
            " |    9/   20 batches | loss: 0.221\n",
            " |   10/   20 batches | loss: 0.225\n",
            " |   11/   20 batches | loss: 0.261\n",
            " |   12/   20 batches | loss: 0.214\n",
            " |   13/   20 batches | loss: 0.221\n",
            " |   14/   20 batches | loss: 0.231\n",
            " |   15/   20 batches | loss: 0.213\n",
            " |   16/   20 batches | loss: 0.217\n",
            " |   17/   20 batches | loss: 0.216\n",
            " |   18/   20 batches | loss: 0.209\n",
            " |   19/   20 batches | loss: 0.22\n",
            " |    0/   20 batches | loss: 0.202\n",
            " |    1/   20 batches | loss: 0.198\n",
            " |    2/   20 batches | loss: 0.237\n",
            " |    3/   20 batches | loss: 0.227\n",
            " |    4/   20 batches | loss: 0.225\n",
            " |    5/   20 batches | loss: 0.205\n",
            " |    6/   20 batches | loss: 0.21\n",
            " |    7/   20 batches | loss: 0.221\n",
            " |    8/   20 batches | loss: 0.208\n",
            " |    9/   20 batches | loss: 0.227\n",
            " |   10/   20 batches | loss: 0.229\n",
            " |   11/   20 batches | loss: 0.218\n",
            " |   12/   20 batches | loss: 0.227\n",
            " |   13/   20 batches | loss: 0.22\n",
            " |   14/   20 batches | loss: 0.229\n",
            " |   15/   20 batches | loss: 0.209\n",
            " |   16/   20 batches | loss: 0.221\n",
            " |   17/   20 batches | loss: 0.217\n",
            " |   18/   20 batches | loss: 0.202\n",
            " |   19/   20 batches | loss: 0.217\n",
            " |    0/   20 batches | loss: 0.224\n"
          ]
        },
        {
          "output_type": "stream",
          "name": "stderr",
          "text": [
            " 49%|████▉     | 49/100 [00:04<00:02, 23.89it/s]"
          ]
        },
        {
          "output_type": "stream",
          "name": "stdout",
          "text": [
            " |    1/   20 batches | loss: 0.205\n",
            " |    2/   20 batches | loss: 0.203\n",
            " |    3/   20 batches | loss: 0.205\n",
            " |    4/   20 batches | loss: 0.219\n",
            " |    5/   20 batches | loss: 0.215\n",
            " |    6/   20 batches | loss: 0.232\n",
            " |    7/   20 batches | loss: 0.177\n",
            " |    8/   20 batches | loss: 0.22\n",
            " |    9/   20 batches | loss: 0.221\n",
            " |   10/   20 batches | loss: 0.23\n",
            " |   11/   20 batches | loss: 0.213\n",
            " |   12/   20 batches | loss: 0.218\n",
            " |   13/   20 batches | loss: 0.224\n",
            " |   14/   20 batches | loss: 0.212\n",
            " |   15/   20 batches | loss: 0.202\n",
            " |   16/   20 batches | loss: 0.215\n",
            " |   17/   20 batches | loss: 0.218\n",
            " |   18/   20 batches | loss: 0.223\n",
            " |   19/   20 batches | loss: 0.201\n",
            " |    0/   20 batches | loss: 0.215\n",
            " |    1/   20 batches | loss: 0.193\n",
            " |    2/   20 batches | loss: 0.2\n",
            " |    3/   20 batches | loss: 0.233\n",
            " |    4/   20 batches | loss: 0.217\n",
            " |    5/   20 batches | loss: 0.216\n",
            " |    6/   20 batches | loss: 0.194\n",
            " |    7/   20 batches | loss: 0.207\n",
            " |    8/   20 batches | loss: 0.219\n",
            " |    9/   20 batches | loss: 0.209\n",
            " |   10/   20 batches | loss: 0.206\n",
            " |   11/   20 batches | loss: 0.196\n",
            " |   12/   20 batches | loss: 0.229\n",
            " |   13/   20 batches | loss: 0.212\n",
            " |   14/   20 batches | loss: 0.2\n",
            " |   15/   20 batches | loss: 0.224\n",
            " |   16/   20 batches | loss: 0.209\n",
            " |   17/   20 batches | loss: 0.212\n",
            " |   18/   20 batches | loss: 0.221\n",
            " |   19/   20 batches | loss: 0.215\n",
            " |    0/   20 batches | loss: 0.222\n",
            " |    1/   20 batches | loss: 0.231\n",
            " |    2/   20 batches | loss: 0.216\n",
            " |    3/   20 batches | loss: 0.194\n",
            " |    4/   20 batches | loss: 0.201\n",
            " |    5/   20 batches | loss: 0.202\n",
            " |    6/   20 batches | loss: 0.224\n",
            " |    7/   20 batches | loss: 0.209\n",
            " |    8/   20 batches | loss: 0.207\n",
            " |    9/   20 batches | loss: 0.2\n",
            " |   10/   20 batches | loss: 0.213\n",
            " |   11/   20 batches | loss: 0.21\n",
            " |   12/   20 batches | loss: 0.206\n",
            " |   13/   20 batches | loss: 0.219\n",
            " |   14/   20 batches | loss: 0.206\n",
            " |   15/   20 batches | loss: 0.206\n",
            " |   16/   20 batches | loss: 0.196\n",
            " |   17/   20 batches | loss: 0.225\n",
            " |   18/   20 batches | loss: 0.21\n",
            " |   19/   20 batches | loss: 0.172\n",
            " |    0/   20 batches | loss: 0.211\n",
            " |    1/   20 batches | loss: 0.217\n",
            " |    2/   20 batches | loss: 0.232\n",
            " |    3/   20 batches | loss: 0.18\n",
            " |    4/   20 batches | loss: 0.195\n",
            " |    5/   20 batches | loss: 0.205\n",
            " |    6/   20 batches | loss: 0.207\n",
            " |    7/   20 batches | loss: 0.215\n",
            " |    8/   20 batches | loss: 0.208\n",
            " |    9/   20 batches | loss: 0.206\n",
            " |   10/   20 batches | loss: 0.201\n",
            " |   11/   20 batches | loss: 0.198\n",
            " |   12/   20 batches | loss: 0.189\n",
            " |   13/   20 batches | loss: 0.228\n",
            " |   14/   20 batches | loss: 0.2\n",
            " |   15/   20 batches | loss: 0.206\n",
            " |   16/   20 batches | loss: 0.206\n",
            " |   17/   20 batches | loss: 0.198\n",
            " |   18/   20 batches | loss: 0.203\n",
            " |   19/   20 batches | loss: 0.196\n",
            " |    0/   20 batches | loss: 0.173\n",
            " |    1/   20 batches | loss: 0.219\n",
            " |    2/   20 batches | loss: 0.218\n",
            " |    3/   20 batches | loss: 0.205\n",
            " |    4/   20 batches | loss: 0.219\n",
            " |    5/   20 batches | loss: 0.211\n",
            " |    6/   20 batches | loss: 0.21\n",
            " |    7/   20 batches | loss: 0.208\n",
            " |    8/   20 batches | loss: 0.199\n",
            " |    9/   20 batches | loss: 0.198\n",
            " |   10/   20 batches | loss: 0.205\n",
            " |   11/   20 batches | loss: 0.206\n",
            " |   12/   20 batches | loss: 0.214\n",
            " |   13/   20 batches | loss: 0.205\n",
            " |   14/   20 batches | loss: 0.203\n",
            " |   15/   20 batches | loss: 0.207\n",
            " |   16/   20 batches | loss: 0.208\n",
            " |   17/   20 batches | loss: 0.188\n",
            " |   18/   20 batches | loss: 0.193\n",
            " |   19/   20 batches | loss: 0.207\n",
            " |    0/   20 batches | loss: 0.2\n"
          ]
        },
        {
          "output_type": "stream",
          "name": "stderr",
          "text": [
            "\r 52%|█████▏    | 52/100 [00:04<00:01, 24.20it/s]"
          ]
        },
        {
          "output_type": "stream",
          "name": "stdout",
          "text": [
            " |    1/   20 batches | loss: 0.221\n",
            " |    2/   20 batches | loss: 0.203\n",
            " |    3/   20 batches | loss: 0.189\n",
            " |    4/   20 batches | loss: 0.226\n",
            " |    5/   20 batches | loss: 0.203\n",
            " |    6/   20 batches | loss: 0.185\n",
            " |    7/   20 batches | loss: 0.181\n",
            " |    8/   20 batches | loss: 0.209\n",
            " |    9/   20 batches | loss: 0.219\n",
            " |   10/   20 batches | loss: 0.202\n",
            " |   11/   20 batches | loss: 0.203\n",
            " |   12/   20 batches | loss: 0.199\n",
            " |   13/   20 batches | loss: 0.201\n",
            " |   14/   20 batches | loss: 0.205\n",
            " |   15/   20 batches | loss: 0.206\n",
            " |   16/   20 batches | loss: 0.186\n",
            " |   17/   20 batches | loss: 0.197\n",
            " |   18/   20 batches | loss: 0.191\n",
            " |   19/   20 batches | loss: 0.214\n",
            " |    0/   20 batches | loss: 0.2\n",
            " |    1/   20 batches | loss: 0.201\n",
            " |    2/   20 batches | loss: 0.205\n",
            " |    3/   20 batches | loss: 0.19\n",
            " |    4/   20 batches | loss: 0.223\n",
            " |    5/   20 batches | loss: 0.197\n",
            " |    6/   20 batches | loss: 0.193\n",
            " |    7/   20 batches | loss: 0.206\n",
            " |    8/   20 batches | loss: 0.202\n",
            " |    9/   20 batches | loss: 0.188\n",
            " |   10/   20 batches | loss: 0.203\n",
            " |   11/   20 batches | loss: 0.207\n",
            " |   12/   20 batches | loss: 0.204\n",
            " |   13/   20 batches | loss: 0.191\n",
            " |   14/   20 batches | loss: 0.208\n",
            " |   15/   20 batches | loss: 0.21\n",
            " |   16/   20 batches | loss: 0.187\n",
            " |   17/   20 batches | loss: 0.18\n",
            " |   18/   20 batches | loss: 0.211\n",
            " |   19/   20 batches | loss: 0.17\n",
            " |    0/   20 batches | loss: 0.201\n",
            " |    1/   20 batches | loss: 0.206\n",
            " |    2/   20 batches | loss: 0.196\n",
            " |    3/   20 batches | loss: 0.229\n",
            " |    4/   20 batches | loss: 0.201\n",
            " |    5/   20 batches | loss: 0.209\n",
            " |    6/   20 batches | loss: 0.188\n",
            " |    7/   20 batches | loss: 0.193\n",
            " |    8/   20 batches | loss: 0.205\n",
            " |    9/   20 batches | loss: 0.2\n",
            " |   10/   20 batches | loss: 0.191\n",
            " |   11/   20 batches | loss: 0.192\n",
            " |   12/   20 batches | loss: 0.199\n",
            " |   13/   20 batches | loss: 0.184\n",
            " |   14/   20 batches | loss: 0.196\n",
            " |   15/   20 batches | loss: 0.199\n",
            " |   16/   20 batches | loss: 0.186\n",
            " |   17/   20 batches | loss: 0.188\n",
            " |   18/   20 batches | loss: 0.179\n",
            " |   19/   20 batches | loss: 0.188\n",
            " |    0/   20 batches | loss: 0.182\n",
            " |    1/   20 batches | loss: 0.192\n",
            " |    2/   20 batches | loss: 0.205\n",
            " |    3/   20 batches | loss: 0.184\n",
            " |    4/   20 batches | loss: 0.192\n",
            " |    5/   20 batches | loss: 0.188\n",
            " |    6/   20 batches | loss: 0.205\n",
            " |    7/   20 batches | loss: 0.199\n",
            " |    8/   20 batches | loss: 0.189\n",
            " |    9/   20 batches | loss: 0.195\n",
            " |   10/   20 batches | loss: 0.197\n",
            " |   11/   20 batches | loss: 0.19\n",
            " |   12/   20 batches | loss: 0.191\n",
            " |   13/   20 batches | loss: 0.19\n",
            " |   14/   20 batches | loss: 0.202\n",
            " |   15/   20 batches | loss: 0.206\n",
            " |   16/   20 batches | loss: 0.193\n",
            " |   17/   20 batches | loss: 0.181\n",
            " |   18/   20 batches | loss: 0.198\n",
            " |   19/   20 batches | loss: 0.206\n",
            " |    0/   20 batches | loss: 0.188\n",
            " |    1/   20 batches | loss: 0.207\n",
            " |    2/   20 batches | loss: 0.197\n",
            " |    3/   20 batches | loss: 0.201\n",
            " |    4/   20 batches | loss: 0.184\n",
            " |    5/   20 batches | loss: 0.213\n",
            " |    6/   20 batches | loss: 0.199\n",
            " |    7/   20 batches | loss: 0.182\n",
            " |    8/   20 batches | loss: 0.203\n",
            " |    9/   20 batches | loss: 0.194\n",
            " |   10/   20 batches | loss: 0.182\n",
            " |   11/   20 batches | loss: 0.183\n",
            " |   12/   20 batches | loss: 0.171\n",
            " |   13/   20 batches | loss: 0.183\n",
            " |   14/   20 batches | loss: 0.188\n",
            " |   15/   20 batches | loss: 0.188\n",
            " |   16/   20 batches | loss: 0.19\n",
            " |   17/   20 batches | loss: 0.195\n",
            " |   18/   20 batches | loss: 0.202\n",
            " |   19/   20 batches | loss: 0.176\n",
            " |    0/   20 batches | loss: 0.203\n",
            " |    1/   20 batches | loss: 0.189\n",
            " |    2/   20 batches | loss: 0.175\n",
            " |    3/   20 batches | loss: 0.173\n",
            " |    4/   20 batches | loss: 0.191\n",
            " |    5/   20 batches | loss: 0.171\n"
          ]
        },
        {
          "output_type": "stream",
          "name": "stderr",
          "text": [
            " 58%|█████▊    | 58/100 [00:05<00:01, 24.58it/s]"
          ]
        },
        {
          "output_type": "stream",
          "name": "stdout",
          "text": [
            " |    6/   20 batches | loss: 0.199\n",
            " |    7/   20 batches | loss: 0.194\n",
            " |    8/   20 batches | loss: 0.199\n",
            " |    9/   20 batches | loss: 0.191\n",
            " |   10/   20 batches | loss: 0.198\n",
            " |   11/   20 batches | loss: 0.18\n",
            " |   12/   20 batches | loss: 0.178\n",
            " |   13/   20 batches | loss: 0.197\n",
            " |   14/   20 batches | loss: 0.219\n",
            " |   15/   20 batches | loss: 0.196\n",
            " |   16/   20 batches | loss: 0.198\n",
            " |   17/   20 batches | loss: 0.181\n",
            " |   18/   20 batches | loss: 0.198\n",
            " |   19/   20 batches | loss: 0.167\n",
            " |    0/   20 batches | loss: 0.181\n",
            " |    1/   20 batches | loss: 0.202\n",
            " |    2/   20 batches | loss: 0.186\n",
            " |    3/   20 batches | loss: 0.203\n",
            " |    4/   20 batches | loss: 0.177\n",
            " |    5/   20 batches | loss: 0.171\n",
            " |    6/   20 batches | loss: 0.191\n",
            " |    7/   20 batches | loss: 0.194\n",
            " |    8/   20 batches | loss: 0.19\n",
            " |    9/   20 batches | loss: 0.177\n",
            " |   10/   20 batches | loss: 0.196\n",
            " |   11/   20 batches | loss: 0.181\n",
            " |   12/   20 batches | loss: 0.18\n",
            " |   13/   20 batches | loss: 0.198\n",
            " |   14/   20 batches | loss: 0.178\n",
            " |   15/   20 batches | loss: 0.196\n",
            " |   16/   20 batches | loss: 0.188\n",
            " |   17/   20 batches | loss: 0.18\n",
            " |   18/   20 batches | loss: 0.201\n",
            " |   19/   20 batches | loss: 0.168\n",
            " |    0/   20 batches | loss: 0.201\n",
            " |    1/   20 batches | loss: 0.188\n",
            " |    2/   20 batches | loss: 0.189\n",
            " |    3/   20 batches | loss: 0.192\n",
            " |    4/   20 batches | loss: 0.197\n",
            " |    5/   20 batches | loss: 0.162\n",
            " |    6/   20 batches | loss: 0.176\n",
            " |    7/   20 batches | loss: 0.201\n",
            " |    8/   20 batches | loss: 0.205\n",
            " |    9/   20 batches | loss: 0.167\n",
            " |   10/   20 batches | loss: 0.194\n",
            " |   11/   20 batches | loss: 0.175\n",
            " |   12/   20 batches | loss: 0.166\n",
            " |   13/   20 batches | loss: 0.189\n",
            " |   14/   20 batches | loss: 0.195\n",
            " |   15/   20 batches | loss: 0.18\n",
            " |   16/   20 batches | loss: 0.191\n",
            " |   17/   20 batches | loss: 0.179\n",
            " |   18/   20 batches | loss: 0.162\n",
            " |   19/   20 batches | loss: 0.186\n",
            " |    0/   20 batches | loss: 0.167\n",
            " |    1/   20 batches | loss: 0.182\n",
            " |    2/   20 batches | loss: 0.174\n",
            " |    3/   20 batches | loss: 0.199\n",
            " |    4/   20 batches | loss: 0.174\n",
            " |    5/   20 batches | loss: 0.198\n",
            " |    6/   20 batches | loss: 0.18\n",
            " |    7/   20 batches | loss: 0.181\n",
            " |    8/   20 batches | loss: 0.179\n",
            " |    9/   20 batches | loss: 0.169\n",
            " |   10/   20 batches | loss: 0.171\n",
            " |   11/   20 batches | loss: 0.174\n",
            " |   12/   20 batches | loss: 0.179\n",
            " |   13/   20 batches | loss: 0.187\n",
            " |   14/   20 batches | loss: 0.173\n",
            " |   15/   20 batches | loss: 0.19\n",
            " |   16/   20 batches | loss: 0.216\n",
            " |   17/   20 batches | loss: 0.18\n",
            " |   18/   20 batches | loss: 0.183\n",
            " |   19/   20 batches | loss: 0.163\n",
            " |    0/   20 batches | loss: 0.169\n",
            " |    1/   20 batches | loss: 0.196\n",
            " |    2/   20 batches | loss: 0.194\n",
            " |    3/   20 batches | loss: 0.175\n",
            " |    4/   20 batches | loss: 0.174\n",
            " |    5/   20 batches | loss: 0.158\n",
            " |    6/   20 batches | loss: 0.182\n",
            " |    7/   20 batches | loss: 0.171\n",
            " |    8/   20 batches | loss: 0.192\n",
            " |    9/   20 batches | loss: 0.172\n",
            " |   10/   20 batches | loss: 0.187\n",
            " |   11/   20 batches | loss: 0.186\n",
            " |   12/   20 batches | loss: 0.171\n",
            " |   13/   20 batches | loss: 0.19\n",
            " |   14/   20 batches | loss: 0.179\n",
            " |   15/   20 batches | loss: 0.177\n",
            " |   16/   20 batches | loss: 0.181\n",
            " |   17/   20 batches | loss: 0.191\n",
            " |   18/   20 batches | loss: 0.168\n",
            " |   19/   20 batches | loss: 0.17\n",
            " |    0/   20 batches | loss: 0.188\n",
            " |    1/   20 batches | loss: 0.169\n",
            " |    2/   20 batches | loss: 0.175\n",
            " |    3/   20 batches | loss: 0.17\n",
            " |    4/   20 batches | loss: 0.172\n",
            " |    5/   20 batches | loss: 0.181\n"
          ]
        },
        {
          "output_type": "stream",
          "name": "stderr",
          "text": [
            " 64%|██████▍   | 64/100 [00:05<00:01, 24.76it/s]"
          ]
        },
        {
          "output_type": "stream",
          "name": "stdout",
          "text": [
            " |    6/   20 batches | loss: 0.168\n",
            " |    7/   20 batches | loss: 0.172\n",
            " |    8/   20 batches | loss: 0.175\n",
            " |    9/   20 batches | loss: 0.186\n",
            " |   10/   20 batches | loss: 0.183\n",
            " |   11/   20 batches | loss: 0.18\n",
            " |   12/   20 batches | loss: 0.179\n",
            " |   13/   20 batches | loss: 0.184\n",
            " |   14/   20 batches | loss: 0.179\n",
            " |   15/   20 batches | loss: 0.161\n",
            " |   16/   20 batches | loss: 0.188\n",
            " |   17/   20 batches | loss: 0.186\n",
            " |   18/   20 batches | loss: 0.196\n",
            " |   19/   20 batches | loss: 0.175\n",
            " |    0/   20 batches | loss: 0.173\n",
            " |    1/   20 batches | loss: 0.185\n",
            " |    2/   20 batches | loss: 0.157\n",
            " |    3/   20 batches | loss: 0.18\n",
            " |    4/   20 batches | loss: 0.18\n",
            " |    5/   20 batches | loss: 0.191\n",
            " |    6/   20 batches | loss: 0.191\n",
            " |    7/   20 batches | loss: 0.159\n",
            " |    8/   20 batches | loss: 0.169\n",
            " |    9/   20 batches | loss: 0.172\n",
            " |   10/   20 batches | loss: 0.189\n",
            " |   11/   20 batches | loss: 0.161\n",
            " |   12/   20 batches | loss: 0.156\n",
            " |   13/   20 batches | loss: 0.184\n",
            " |   14/   20 batches | loss: 0.188\n",
            " |   15/   20 batches | loss: 0.181\n",
            " |   16/   20 batches | loss: 0.164\n",
            " |   17/   20 batches | loss: 0.169\n",
            " |   18/   20 batches | loss: 0.189\n",
            " |   19/   20 batches | loss: 0.184\n",
            " |    0/   20 batches | loss: 0.157\n",
            " |    1/   20 batches | loss: 0.18\n",
            " |    2/   20 batches | loss: 0.167\n",
            " |    3/   20 batches | loss: 0.178\n",
            " |    4/   20 batches | loss: 0.18\n",
            " |    5/   20 batches | loss: 0.185\n",
            " |    6/   20 batches | loss: 0.173\n",
            " |    7/   20 batches | loss: 0.176\n",
            " |    8/   20 batches | loss: 0.174\n",
            " |    9/   20 batches | loss: 0.173\n",
            " |   10/   20 batches | loss: 0.172\n",
            " |   11/   20 batches | loss: 0.16\n",
            " |   12/   20 batches | loss: 0.154\n",
            " |   13/   20 batches | loss: 0.176\n",
            " |   14/   20 batches | loss: 0.167\n",
            " |   15/   20 batches | loss: 0.185\n",
            " |   16/   20 batches | loss: 0.17\n",
            " |   17/   20 batches | loss: 0.191\n",
            " |   18/   20 batches | loss: 0.175\n",
            " |   19/   20 batches | loss: 0.182\n",
            " |    0/   20 batches | loss: 0.162\n",
            " |    1/   20 batches | loss: 0.185\n",
            " |    2/   20 batches | loss: 0.191\n",
            " |    3/   20 batches | loss: 0.178\n",
            " |    4/   20 batches | loss: 0.179\n",
            " |    5/   20 batches | loss: 0.174\n",
            " |    6/   20 batches | loss: 0.162\n",
            " |    7/   20 batches | loss: 0.163\n",
            " |    8/   20 batches | loss: 0.162\n",
            " |    9/   20 batches | loss: 0.162\n",
            " |   10/   20 batches | loss: 0.159\n",
            " |   11/   20 batches | loss: 0.173\n",
            " |   12/   20 batches | loss: 0.188\n",
            " |   13/   20 batches | loss: 0.168\n",
            " |   14/   20 batches | loss: 0.164\n",
            " |   15/   20 batches | loss: 0.165\n",
            " |   16/   20 batches | loss: 0.174\n",
            " |   17/   20 batches | loss: 0.175\n",
            " |   18/   20 batches | loss: 0.163\n",
            " |   19/   20 batches | loss: 0.172\n",
            " |    0/   20 batches | loss: 0.177\n",
            " |    1/   20 batches | loss: 0.163\n",
            " |    2/   20 batches | loss: 0.168\n",
            " |    3/   20 batches | loss: 0.176\n",
            " |    4/   20 batches | loss: 0.175\n",
            " |    5/   20 batches | loss: 0.171\n",
            " |    6/   20 batches | loss: 0.17\n",
            " |    7/   20 batches | loss: 0.155\n",
            " |    8/   20 batches | loss: 0.173\n",
            " |    9/   20 batches | loss: 0.154\n",
            " |   10/   20 batches | loss: 0.158\n",
            " |   11/   20 batches | loss: 0.169\n",
            " |   12/   20 batches | loss: 0.181\n",
            " |   13/   20 batches | loss: 0.172\n",
            " |   14/   20 batches | loss: 0.175\n",
            " |   15/   20 batches | loss: 0.174\n",
            " |   16/   20 batches | loss: 0.169\n",
            " |   17/   20 batches | loss: 0.156\n",
            " |   18/   20 batches | loss: 0.177\n",
            " |   19/   20 batches | loss: 0.172\n",
            " |    0/   20 batches | loss: 0.18\n",
            " |    1/   20 batches | loss: 0.176\n",
            " |    2/   20 batches | loss: 0.171\n",
            " |    3/   20 batches | loss: 0.182\n",
            " |    4/   20 batches | loss: 0.154\n",
            " |    5/   20 batches | loss: 0.169\n",
            " |    6/   20 batches | loss: 0.176\n",
            " |    7/   20 batches | loss: 0.178\n"
          ]
        },
        {
          "output_type": "stream",
          "name": "stderr",
          "text": [
            "\r 67%|██████▋   | 67/100 [00:05<00:01, 24.56it/s]"
          ]
        },
        {
          "output_type": "stream",
          "name": "stdout",
          "text": [
            " |    8/   20 batches | loss: 0.169\n",
            " |    9/   20 batches | loss: 0.16\n",
            " |   10/   20 batches | loss: 0.169\n",
            " |   11/   20 batches | loss: 0.161\n",
            " |   12/   20 batches | loss: 0.171\n",
            " |   13/   20 batches | loss: 0.16\n",
            " |   14/   20 batches | loss: 0.162\n",
            " |   15/   20 batches | loss: 0.162\n",
            " |   16/   20 batches | loss: 0.156\n",
            " |   17/   20 batches | loss: 0.154\n",
            " |   18/   20 batches | loss: 0.161\n",
            " |   19/   20 batches | loss: 0.161\n",
            " |    0/   20 batches | loss: 0.168\n",
            " |    1/   20 batches | loss: 0.156\n",
            " |    2/   20 batches | loss: 0.17\n",
            " |    3/   20 batches | loss: 0.182\n",
            " |    4/   20 batches | loss: 0.161\n",
            " |    5/   20 batches | loss: 0.168\n",
            " |    6/   20 batches | loss: 0.183\n",
            " |    7/   20 batches | loss: 0.177\n",
            " |    8/   20 batches | loss: 0.183\n",
            " |    9/   20 batches | loss: 0.175\n",
            " |   10/   20 batches | loss: 0.174\n",
            " |   11/   20 batches | loss: 0.156\n",
            " |   12/   20 batches | loss: 0.156\n",
            " |   13/   20 batches | loss: 0.178\n",
            " |   14/   20 batches | loss: 0.186\n",
            " |   15/   20 batches | loss: 0.161\n",
            " |   16/   20 batches | loss: 0.154\n",
            " |   17/   20 batches | loss: 0.162\n",
            " |   18/   20 batches | loss: 0.169\n",
            " |   19/   20 batches | loss: 0.151\n",
            " |    0/   20 batches | loss: 0.158\n",
            " |    1/   20 batches | loss: 0.162\n",
            " |    2/   20 batches | loss: 0.161\n",
            " |    3/   20 batches | loss: 0.19\n",
            " |    4/   20 batches | loss: 0.171\n",
            " |    5/   20 batches | loss: 0.176\n",
            " |    6/   20 batches | loss: 0.157\n",
            " |    7/   20 batches | loss: 0.149\n",
            " |    8/   20 batches | loss: 0.167\n",
            " |    9/   20 batches | loss: 0.158\n",
            " |   10/   20 batches | loss: 0.168\n",
            " |   11/   20 batches | loss: 0.153\n",
            " |   12/   20 batches | loss: 0.158\n",
            " |   13/   20 batches | loss: 0.164\n",
            " |   14/   20 batches | loss: 0.174\n",
            " |   15/   20 batches | loss: 0.162\n",
            " |   16/   20 batches | loss: 0.151\n",
            " |   17/   20 batches | loss: 0.175\n",
            " |   18/   20 batches | loss: 0.161\n",
            " |   19/   20 batches | loss: 0.147\n",
            " |    0/   20 batches | loss: 0.171\n",
            " |    1/   20 batches | loss: 0.168\n",
            " |    2/   20 batches | loss: 0.15\n",
            " |    3/   20 batches | loss: 0.167\n",
            " |    4/   20 batches | loss: 0.182\n",
            " |    5/   20 batches | loss: 0.167\n",
            " |    6/   20 batches | loss: 0.172\n",
            " |    7/   20 batches | loss: 0.161\n",
            " |    8/   20 batches | loss: 0.159\n",
            " |    9/   20 batches | loss: 0.16\n",
            " |   10/   20 batches | loss: 0.165\n",
            " |   11/   20 batches | loss: 0.155\n",
            " |   12/   20 batches | loss: 0.143\n",
            " |   13/   20 batches | loss: 0.149\n",
            " |   14/   20 batches | loss: 0.152\n",
            " |   15/   20 batches | loss: 0.15\n",
            " |   16/   20 batches | loss: 0.164\n",
            " |   17/   20 batches | loss: 0.167\n",
            " |   18/   20 batches | loss: 0.166\n",
            " |   19/   20 batches | loss: 0.186\n",
            " |    0/   20 batches | loss: 0.176\n",
            " |    1/   20 batches | loss: 0.151\n",
            " |    2/   20 batches | loss: 0.147\n",
            " |    3/   20 batches | loss: 0.156\n",
            " |    4/   20 batches | loss: 0.148\n",
            " |    5/   20 batches | loss: 0.163\n",
            " |    6/   20 batches | loss: 0.171\n",
            " |    7/   20 batches | loss: 0.143\n",
            " |    8/   20 batches | loss: 0.162\n",
            " |    9/   20 batches | loss: 0.162\n",
            " |   10/   20 batches | loss: 0.175\n",
            " |   11/   20 batches | loss: 0.171\n",
            " |   12/   20 batches | loss: 0.171\n",
            " |   13/   20 batches | loss: 0.162\n",
            " |   14/   20 batches | loss: 0.153\n",
            " |   15/   20 batches | loss: 0.149\n",
            " |   16/   20 batches | loss: 0.147\n",
            " |   17/   20 batches | loss: 0.147\n",
            " |   18/   20 batches | loss: 0.17\n",
            " |   19/   20 batches | loss: 0.148\n",
            " |    0/   20 batches | loss: 0.16\n",
            " |    1/   20 batches | loss: 0.142\n",
            " |    2/   20 batches | loss: 0.14\n",
            " |    3/   20 batches | loss: 0.157\n",
            " |    4/   20 batches | loss: 0.165\n",
            " |    5/   20 batches | loss: 0.166\n"
          ]
        },
        {
          "output_type": "stream",
          "name": "stderr",
          "text": [
            " 73%|███████▎  | 73/100 [00:05<00:01, 23.75it/s]"
          ]
        },
        {
          "output_type": "stream",
          "name": "stdout",
          "text": [
            " |    6/   20 batches | loss: 0.152\n",
            " |    7/   20 batches | loss: 0.151\n",
            " |    8/   20 batches | loss: 0.176\n",
            " |    9/   20 batches | loss: 0.174\n",
            " |   10/   20 batches | loss: 0.15\n",
            " |   11/   20 batches | loss: 0.15\n",
            " |   12/   20 batches | loss: 0.164\n",
            " |   13/   20 batches | loss: 0.16\n",
            " |   14/   20 batches | loss: 0.164\n",
            " |   15/   20 batches | loss: 0.17\n",
            " |   16/   20 batches | loss: 0.151\n",
            " |   17/   20 batches | loss: 0.16\n",
            " |   18/   20 batches | loss: 0.159\n",
            " |   19/   20 batches | loss: 0.149\n",
            " |    0/   20 batches | loss: 0.158\n",
            " |    1/   20 batches | loss: 0.147\n",
            " |    2/   20 batches | loss: 0.159\n",
            " |    3/   20 batches | loss: 0.138\n",
            " |    4/   20 batches | loss: 0.174\n",
            " |    5/   20 batches | loss: 0.148\n",
            " |    6/   20 batches | loss: 0.157\n",
            " |    7/   20 batches | loss: 0.154\n",
            " |    8/   20 batches | loss: 0.147\n",
            " |    9/   20 batches | loss: 0.164\n",
            " |   10/   20 batches | loss: 0.153\n",
            " |   11/   20 batches | loss: 0.148\n",
            " |   12/   20 batches | loss: 0.164\n",
            " |   13/   20 batches | loss: 0.159\n",
            " |   14/   20 batches | loss: 0.159\n",
            " |   15/   20 batches | loss: 0.161\n",
            " |   16/   20 batches | loss: 0.173\n",
            " |   17/   20 batches | loss: 0.182\n",
            " |   18/   20 batches | loss: 0.158\n",
            " |   19/   20 batches | loss: 0.151\n",
            " |    0/   20 batches | loss: 0.161\n",
            " |    1/   20 batches | loss: 0.158\n",
            " |    2/   20 batches | loss: 0.155\n",
            " |    3/   20 batches | loss: 0.153\n",
            " |    4/   20 batches | loss: 0.148\n",
            " |    5/   20 batches | loss: 0.171\n",
            " |    6/   20 batches | loss: 0.159\n",
            " |    7/   20 batches | loss: 0.147\n",
            " |    8/   20 batches | loss: 0.157\n",
            " |    9/   20 batches | loss: 0.146\n",
            " |   10/   20 batches | loss: 0.147\n",
            " |   11/   20 batches | loss: 0.141\n",
            " |   12/   20 batches | loss: 0.156\n",
            " |   13/   20 batches | loss: 0.168\n",
            " |   14/   20 batches | loss: 0.159\n",
            " |   15/   20 batches | loss: 0.176\n",
            " |   16/   20 batches | loss: 0.15\n",
            " |   17/   20 batches | loss: 0.131\n",
            " |   18/   20 batches | loss: 0.163\n",
            " |   19/   20 batches | loss: 0.187\n",
            " |    0/   20 batches | loss: 0.182\n",
            " |    1/   20 batches | loss: 0.152\n",
            " |    2/   20 batches | loss: 0.159\n",
            " |    3/   20 batches | loss: 0.151\n",
            " |    4/   20 batches | loss: 0.144\n",
            " |    5/   20 batches | loss: 0.148\n",
            " |    6/   20 batches | loss: 0.16\n",
            " |    7/   20 batches | loss: 0.16\n",
            " |    8/   20 batches | loss: 0.171\n",
            " |    9/   20 batches | loss: 0.139\n",
            " |   10/   20 batches | loss: 0.159\n",
            " |   11/   20 batches | loss: 0.148\n",
            " |   12/   20 batches | loss: 0.15\n",
            " |   13/   20 batches | loss: 0.167\n",
            " |   14/   20 batches | loss: 0.148\n",
            " |   15/   20 batches | loss: 0.152\n",
            " |   16/   20 batches | loss: 0.14\n",
            " |   17/   20 batches | loss: 0.162\n",
            " |   18/   20 batches | loss: 0.15\n",
            " |   19/   20 batches | loss: 0.143\n",
            " |    0/   20 batches | loss: 0.152\n",
            " |    1/   20 batches | loss: 0.149\n",
            " |    2/   20 batches | loss: 0.15\n",
            " |    3/   20 batches | loss: 0.146\n",
            " |    4/   20 batches | loss: 0.159\n",
            " |    5/   20 batches | loss: 0.153\n",
            " |    6/   20 batches | loss: 0.149\n",
            " |    7/   20 batches | loss: 0.137\n",
            " |    8/   20 batches | loss: 0.154\n",
            " |    9/   20 batches | loss: 0.148\n",
            " |   10/   20 batches | loss: 0.142\n",
            " |   11/   20 batches | loss: 0.143\n",
            " |   12/   20 batches | loss: 0.147\n",
            " |   13/   20 batches | loss: 0.155\n",
            " |   14/   20 batches | loss: 0.152\n",
            " |   15/   20 batches | loss: 0.162\n",
            " |   16/   20 batches | loss: 0.16\n",
            " |   17/   20 batches | loss: 0.134\n",
            " |   18/   20 batches | loss: 0.183\n",
            " |   19/   20 batches | loss: 0.175\n",
            " |    0/   20 batches | loss: 0.163\n"
          ]
        },
        {
          "output_type": "stream",
          "name": "stderr",
          "text": [
            " 79%|███████▉  | 79/100 [00:05<00:00, 24.38it/s]"
          ]
        },
        {
          "output_type": "stream",
          "name": "stdout",
          "text": [
            " |    1/   20 batches | loss: 0.147\n",
            " |    2/   20 batches | loss: 0.16\n",
            " |    3/   20 batches | loss: 0.148\n",
            " |    4/   20 batches | loss: 0.145\n",
            " |    5/   20 batches | loss: 0.143\n",
            " |    6/   20 batches | loss: 0.145\n",
            " |    7/   20 batches | loss: 0.157\n",
            " |    8/   20 batches | loss: 0.158\n",
            " |    9/   20 batches | loss: 0.181\n",
            " |   10/   20 batches | loss: 0.168\n",
            " |   11/   20 batches | loss: 0.148\n",
            " |   12/   20 batches | loss: 0.14\n",
            " |   13/   20 batches | loss: 0.153\n",
            " |   14/   20 batches | loss: 0.149\n",
            " |   15/   20 batches | loss: 0.145\n",
            " |   16/   20 batches | loss: 0.133\n",
            " |   17/   20 batches | loss: 0.152\n",
            " |   18/   20 batches | loss: 0.157\n",
            " |   19/   20 batches | loss: 0.151\n",
            " |    0/   20 batches | loss: 0.133\n",
            " |    1/   20 batches | loss: 0.153\n",
            " |    2/   20 batches | loss: 0.16\n",
            " |    3/   20 batches | loss: 0.164\n",
            " |    4/   20 batches | loss: 0.153\n",
            " |    5/   20 batches | loss: 0.146\n",
            " |    6/   20 batches | loss: 0.152\n",
            " |    7/   20 batches | loss: 0.166\n",
            " |    8/   20 batches | loss: 0.144\n",
            " |    9/   20 batches | loss: 0.154\n",
            " |   10/   20 batches | loss: 0.159\n",
            " |   11/   20 batches | loss: 0.16\n",
            " |   12/   20 batches | loss: 0.137\n",
            " |   13/   20 batches | loss: 0.163\n",
            " |   14/   20 batches | loss: 0.156\n",
            " |   15/   20 batches | loss: 0.154\n",
            " |   16/   20 batches | loss: 0.139\n",
            " |   17/   20 batches | loss: 0.148\n",
            " |   18/   20 batches | loss: 0.15\n",
            " |   19/   20 batches | loss: 0.124\n",
            " |    0/   20 batches | loss: 0.142\n",
            " |    1/   20 batches | loss: 0.152\n",
            " |    2/   20 batches | loss: 0.148\n",
            " |    3/   20 batches | loss: 0.169\n",
            " |    4/   20 batches | loss: 0.145\n",
            " |    5/   20 batches | loss: 0.138\n",
            " |    6/   20 batches | loss: 0.162\n",
            " |    7/   20 batches | loss: 0.129\n",
            " |    8/   20 batches | loss: 0.169\n",
            " |    9/   20 batches | loss: 0.15\n",
            " |   10/   20 batches | loss: 0.143\n",
            " |   11/   20 batches | loss: 0.175\n",
            " |   12/   20 batches | loss: 0.156\n",
            " |   13/   20 batches | loss: 0.14\n",
            " |   14/   20 batches | loss: 0.148\n",
            " |   15/   20 batches | loss: 0.147\n",
            " |   16/   20 batches | loss: 0.133\n",
            " |   17/   20 batches | loss: 0.132\n",
            " |   18/   20 batches | loss: 0.151\n",
            " |   19/   20 batches | loss: 0.135\n",
            " |    0/   20 batches | loss: 0.14\n",
            " |    1/   20 batches | loss: 0.155\n",
            " |    2/   20 batches | loss: 0.152\n",
            " |    3/   20 batches | loss: 0.15\n",
            " |    4/   20 batches | loss: 0.139\n",
            " |    5/   20 batches | loss: 0.145\n",
            " |    6/   20 batches | loss: 0.141\n",
            " |    7/   20 batches | loss: 0.145\n",
            " |    8/   20 batches | loss: 0.134\n",
            " |    9/   20 batches | loss: 0.157\n",
            " |   10/   20 batches | loss: 0.147\n",
            " |   11/   20 batches | loss: 0.148\n",
            " |   12/   20 batches | loss: 0.144\n",
            " |   13/   20 batches | loss: 0.146\n",
            " |   14/   20 batches | loss: 0.138\n",
            " |   15/   20 batches | loss: 0.163\n",
            " |   16/   20 batches | loss: 0.144\n",
            " |   17/   20 batches | loss: 0.152\n",
            " |   18/   20 batches | loss: 0.15\n",
            " |   19/   20 batches | loss: 0.152\n",
            " |    0/   20 batches | loss: 0.146\n",
            " |    1/   20 batches | loss: 0.15\n",
            " |    2/   20 batches | loss: 0.133\n",
            " |    3/   20 batches | loss: 0.158\n",
            " |    4/   20 batches | loss: 0.141\n",
            " |    5/   20 batches | loss: 0.143\n",
            " |    6/   20 batches | loss: 0.15\n",
            " |    7/   20 batches | loss: 0.15\n",
            " |    8/   20 batches | loss: 0.163\n",
            " |    9/   20 batches | loss: 0.143\n",
            " |   10/   20 batches | loss: 0.143\n",
            " |   11/   20 batches | loss: 0.164\n",
            " |   12/   20 batches | loss: 0.13\n",
            " |   13/   20 batches | loss: 0.143\n",
            " |   14/   20 batches | loss: 0.146\n",
            " |   15/   20 batches | loss: 0.157\n",
            " |   16/   20 batches | loss: 0.154\n",
            " |   17/   20 batches | loss: 0.132\n",
            " |   18/   20 batches | loss: 0.149\n",
            " |   19/   20 batches | loss: 0.149\n",
            " |    0/   20 batches | loss: 0.147\n"
          ]
        },
        {
          "output_type": "stream",
          "name": "stderr",
          "text": [
            "\r 82%|████████▏ | 82/100 [00:06<00:00, 24.38it/s]"
          ]
        },
        {
          "output_type": "stream",
          "name": "stdout",
          "text": [
            " |    1/   20 batches | loss: 0.148\n",
            " |    2/   20 batches | loss: 0.144\n",
            " |    3/   20 batches | loss: 0.144\n",
            " |    4/   20 batches | loss: 0.144\n",
            " |    5/   20 batches | loss: 0.156\n",
            " |    6/   20 batches | loss: 0.167\n",
            " |    7/   20 batches | loss: 0.127\n",
            " |    8/   20 batches | loss: 0.148\n",
            " |    9/   20 batches | loss: 0.136\n",
            " |   10/   20 batches | loss: 0.148\n",
            " |   11/   20 batches | loss: 0.138\n",
            " |   12/   20 batches | loss: 0.133\n",
            " |   13/   20 batches | loss: 0.157\n",
            " |   14/   20 batches | loss: 0.147\n",
            " |   15/   20 batches | loss: 0.146\n",
            " |   16/   20 batches | loss: 0.144\n",
            " |   17/   20 batches | loss: 0.158\n",
            " |   18/   20 batches | loss: 0.156\n",
            " |   19/   20 batches | loss: 0.134\n",
            " |    0/   20 batches | loss: 0.145\n",
            " |    1/   20 batches | loss: 0.143\n",
            " |    2/   20 batches | loss: 0.143\n",
            " |    3/   20 batches | loss: 0.142\n",
            " |    4/   20 batches | loss: 0.144\n",
            " |    5/   20 batches | loss: 0.155\n",
            " |    6/   20 batches | loss: 0.14\n",
            " |    7/   20 batches | loss: 0.137\n",
            " |    8/   20 batches | loss: 0.14\n",
            " |    9/   20 batches | loss: 0.145\n",
            " |   10/   20 batches | loss: 0.141\n",
            " |   11/   20 batches | loss: 0.141\n",
            " |   12/   20 batches | loss: 0.152\n",
            " |   13/   20 batches | loss: 0.15\n",
            " |   14/   20 batches | loss: 0.137\n",
            " |   15/   20 batches | loss: 0.154\n",
            " |   16/   20 batches | loss: 0.123\n",
            " |   17/   20 batches | loss: 0.158\n",
            " |   18/   20 batches | loss: 0.143\n",
            " |   19/   20 batches | loss: 0.139\n",
            " |    0/   20 batches | loss: 0.14\n",
            " |    1/   20 batches | loss: 0.148\n",
            " |    2/   20 batches | loss: 0.154\n",
            " |    3/   20 batches | loss: 0.152\n",
            " |    4/   20 batches | loss: 0.159\n",
            " |    5/   20 batches | loss: 0.135\n",
            " |    6/   20 batches | loss: 0.149\n",
            " |    7/   20 batches | loss: 0.136\n",
            " |    8/   20 batches | loss: 0.136\n",
            " |    9/   20 batches | loss: 0.128\n",
            " |   10/   20 batches | loss: 0.152\n",
            " |   11/   20 batches | loss: 0.156\n",
            " |   12/   20 batches | loss: 0.143\n",
            " |   13/   20 batches | loss: 0.134\n",
            " |   14/   20 batches | loss: 0.139\n",
            " |   15/   20 batches | loss: 0.134\n",
            " |   16/   20 batches | loss: 0.14\n",
            " |   17/   20 batches | loss: 0.152\n",
            " |   18/   20 batches | loss: 0.151\n",
            " |   19/   20 batches | loss: 0.138\n",
            " |    0/   20 batches | loss: 0.144\n",
            " |    1/   20 batches | loss: 0.139\n",
            " |    2/   20 batches | loss: 0.139\n",
            " |    3/   20 batches | loss: 0.139\n",
            " |    4/   20 batches | loss: 0.125\n",
            " |    5/   20 batches | loss: 0.156\n",
            " |    6/   20 batches | loss: 0.135\n",
            " |    7/   20 batches | loss: 0.156\n",
            " |    8/   20 batches | loss: 0.143\n",
            " |    9/   20 batches | loss: 0.167\n",
            " |   10/   20 batches | loss: 0.128\n",
            " |   11/   20 batches | loss: 0.139\n",
            " |   12/   20 batches | loss: 0.14\n",
            " |   13/   20 batches | loss: 0.13\n",
            " |   14/   20 batches | loss: 0.133\n",
            " |   15/   20 batches | loss: 0.156\n",
            " |   16/   20 batches | loss: 0.154\n",
            " |   17/   20 batches | loss: 0.151\n",
            " |   18/   20 batches | loss: 0.146\n",
            " |   19/   20 batches | loss: 0.127\n",
            " |    0/   20 batches | loss: 0.132\n",
            " |    1/   20 batches | loss: 0.13\n",
            " |    2/   20 batches | loss: 0.148\n",
            " |    3/   20 batches | loss: 0.159\n",
            " |    4/   20 batches | loss: 0.124\n",
            " |    5/   20 batches | loss: 0.145\n",
            " |    6/   20 batches | loss: 0.15\n",
            " |    7/   20 batches | loss: 0.166\n",
            " |    8/   20 batches | loss: 0.172\n",
            " |    9/   20 batches | loss: 0.144\n",
            " |   10/   20 batches | loss: 0.159\n",
            " |   11/   20 batches | loss: 0.127\n",
            " |   12/   20 batches | loss: 0.128\n",
            " |   13/   20 batches | loss: 0.129\n",
            " |   14/   20 batches | loss: 0.138\n",
            " |   15/   20 batches | loss: 0.142\n",
            " |   16/   20 batches | loss: 0.138\n",
            " |   17/   20 batches | loss: 0.155\n",
            " |   18/   20 batches | loss: 0.144\n",
            " |   19/   20 batches | loss: 0.139\n",
            " |    0/   20 batches | loss: 0.141\n",
            " |    1/   20 batches | loss: 0.155\n",
            " |    2/   20 batches | loss: 0.132\n",
            " |    3/   20 batches | loss: 0.151\n",
            " |    4/   20 batches | loss: 0.144\n"
          ]
        },
        {
          "output_type": "stream",
          "name": "stderr",
          "text": [
            " 88%|████████▊ | 88/100 [00:06<00:00, 25.04it/s]"
          ]
        },
        {
          "output_type": "stream",
          "name": "stdout",
          "text": [
            " |    5/   20 batches | loss: 0.121\n",
            " |    6/   20 batches | loss: 0.145\n",
            " |    7/   20 batches | loss: 0.14\n",
            " |    8/   20 batches | loss: 0.151\n",
            " |    9/   20 batches | loss: 0.15\n",
            " |   10/   20 batches | loss: 0.129\n",
            " |   11/   20 batches | loss: 0.143\n",
            " |   12/   20 batches | loss: 0.135\n",
            " |   13/   20 batches | loss: 0.136\n",
            " |   14/   20 batches | loss: 0.134\n",
            " |   15/   20 batches | loss: 0.126\n",
            " |   16/   20 batches | loss: 0.147\n",
            " |   17/   20 batches | loss: 0.128\n",
            " |   18/   20 batches | loss: 0.14\n",
            " |   19/   20 batches | loss: 0.132\n",
            " |    0/   20 batches | loss: 0.141\n",
            " |    1/   20 batches | loss: 0.139\n",
            " |    2/   20 batches | loss: 0.123\n",
            " |    3/   20 batches | loss: 0.142\n",
            " |    4/   20 batches | loss: 0.142\n",
            " |    5/   20 batches | loss: 0.146\n",
            " |    6/   20 batches | loss: 0.137\n",
            " |    7/   20 batches | loss: 0.139\n",
            " |    8/   20 batches | loss: 0.139\n",
            " |    9/   20 batches | loss: 0.121\n",
            " |   10/   20 batches | loss: 0.147\n",
            " |   11/   20 batches | loss: 0.152\n",
            " |   12/   20 batches | loss: 0.138\n",
            " |   13/   20 batches | loss: 0.13\n",
            " |   14/   20 batches | loss: 0.134\n",
            " |   15/   20 batches | loss: 0.133\n",
            " |   16/   20 batches | loss: 0.132\n",
            " |   17/   20 batches | loss: 0.135\n",
            " |   18/   20 batches | loss: 0.136\n",
            " |   19/   20 batches | loss: 0.12\n",
            " |    0/   20 batches | loss: 0.13\n",
            " |    1/   20 batches | loss: 0.122\n",
            " |    2/   20 batches | loss: 0.138\n",
            " |    3/   20 batches | loss: 0.132\n",
            " |    4/   20 batches | loss: 0.148\n",
            " |    5/   20 batches | loss: 0.131\n",
            " |    6/   20 batches | loss: 0.137\n",
            " |    7/   20 batches | loss: 0.13\n",
            " |    8/   20 batches | loss: 0.136\n",
            " |    9/   20 batches | loss: 0.147\n",
            " |   10/   20 batches | loss: 0.117\n",
            " |   11/   20 batches | loss: 0.142\n",
            " |   12/   20 batches | loss: 0.131\n",
            " |   13/   20 batches | loss: 0.135\n",
            " |   14/   20 batches | loss: 0.14\n",
            " |   15/   20 batches | loss: 0.129\n",
            " |   16/   20 batches | loss: 0.129\n",
            " |   17/   20 batches | loss: 0.136\n",
            " |   18/   20 batches | loss: 0.162\n",
            " |   19/   20 batches | loss: 0.143\n",
            " |    0/   20 batches | loss: 0.142\n",
            " |    1/   20 batches | loss: 0.135\n",
            " |    2/   20 batches | loss: 0.142\n",
            " |    3/   20 batches | loss: 0.136\n",
            " |    4/   20 batches | loss: 0.131\n",
            " |    5/   20 batches | loss: 0.142\n",
            " |    6/   20 batches | loss: 0.127\n",
            " |    7/   20 batches | loss: 0.141\n",
            " |    8/   20 batches | loss: 0.137\n",
            " |    9/   20 batches | loss: 0.126\n",
            " |   10/   20 batches | loss: 0.137\n",
            " |   11/   20 batches | loss: 0.138\n",
            " |   12/   20 batches | loss: 0.131\n",
            " |   13/   20 batches | loss: 0.136\n",
            " |   14/   20 batches | loss: 0.132\n",
            " |   15/   20 batches | loss: 0.142\n",
            " |   16/   20 batches | loss: 0.133\n",
            " |   17/   20 batches | loss: 0.141\n",
            " |   18/   20 batches | loss: 0.14\n",
            " |   19/   20 batches | loss: 0.122\n",
            " |    0/   20 batches | loss: 0.134\n",
            " |    1/   20 batches | loss: 0.139\n",
            " |    2/   20 batches | loss: 0.139\n",
            " |    3/   20 batches | loss: 0.146\n",
            " |    4/   20 batches | loss: 0.131\n",
            " |    5/   20 batches | loss: 0.136\n",
            " |    6/   20 batches | loss: 0.135\n",
            " |    7/   20 batches | loss: 0.123\n",
            " |    8/   20 batches | loss: 0.141\n",
            " |    9/   20 batches | loss: 0.134\n",
            " |   10/   20 batches | loss: 0.135\n",
            " |   11/   20 batches | loss: 0.144\n",
            " |   12/   20 batches | loss: 0.128\n",
            " |   13/   20 batches | loss: 0.117\n",
            " |   14/   20 batches | loss: 0.138\n",
            " |   15/   20 batches | loss: 0.129\n",
            " |   16/   20 batches | loss: 0.132\n",
            " |   17/   20 batches | loss: 0.128\n",
            " |   18/   20 batches | loss: 0.137\n",
            " |   19/   20 batches | loss: 0.129\n",
            " |    0/   20 batches | loss: 0.125\n",
            " |    1/   20 batches | loss: 0.136\n",
            " |    2/   20 batches | loss: 0.119\n",
            " |    3/   20 batches | loss: 0.133\n",
            " |    4/   20 batches | loss: 0.13\n",
            " |    5/   20 batches | loss: 0.144\n",
            " |    6/   20 batches | loss: 0.137\n"
          ]
        },
        {
          "output_type": "stream",
          "name": "stderr",
          "text": [
            " 94%|█████████▍| 94/100 [00:06<00:00, 25.36it/s]"
          ]
        },
        {
          "output_type": "stream",
          "name": "stdout",
          "text": [
            " |    7/   20 batches | loss: 0.123\n",
            " |    8/   20 batches | loss: 0.132\n",
            " |    9/   20 batches | loss: 0.121\n",
            " |   10/   20 batches | loss: 0.15\n",
            " |   11/   20 batches | loss: 0.155\n",
            " |   12/   20 batches | loss: 0.146\n",
            " |   13/   20 batches | loss: 0.126\n",
            " |   14/   20 batches | loss: 0.123\n",
            " |   15/   20 batches | loss: 0.136\n",
            " |   16/   20 batches | loss: 0.145\n",
            " |   17/   20 batches | loss: 0.13\n",
            " |   18/   20 batches | loss: 0.122\n",
            " |   19/   20 batches | loss: 0.117\n",
            " |    0/   20 batches | loss: 0.139\n",
            " |    1/   20 batches | loss: 0.14\n",
            " |    2/   20 batches | loss: 0.128\n",
            " |    3/   20 batches | loss: 0.138\n",
            " |    4/   20 batches | loss: 0.136\n",
            " |    5/   20 batches | loss: 0.143\n",
            " |    6/   20 batches | loss: 0.135\n",
            " |    7/   20 batches | loss: 0.137\n",
            " |    8/   20 batches | loss: 0.118\n",
            " |    9/   20 batches | loss: 0.12\n",
            " |   10/   20 batches | loss: 0.136\n",
            " |   11/   20 batches | loss: 0.123\n",
            " |   12/   20 batches | loss: 0.138\n",
            " |   13/   20 batches | loss: 0.13\n",
            " |   14/   20 batches | loss: 0.127\n",
            " |   15/   20 batches | loss: 0.136\n",
            " |   16/   20 batches | loss: 0.135\n",
            " |   17/   20 batches | loss: 0.115\n",
            " |   18/   20 batches | loss: 0.124\n",
            " |   19/   20 batches | loss: 0.144\n",
            " |    0/   20 batches | loss: 0.134\n",
            " |    1/   20 batches | loss: 0.122\n",
            " |    2/   20 batches | loss: 0.138\n",
            " |    3/   20 batches | loss: 0.129\n",
            " |    4/   20 batches | loss: 0.13\n",
            " |    5/   20 batches | loss: 0.116\n",
            " |    6/   20 batches | loss: 0.123\n",
            " |    7/   20 batches | loss: 0.132\n",
            " |    8/   20 batches | loss: 0.133\n",
            " |    9/   20 batches | loss: 0.138\n",
            " |   10/   20 batches | loss: 0.131\n",
            " |   11/   20 batches | loss: 0.123\n",
            " |   12/   20 batches | loss: 0.123\n",
            " |   13/   20 batches | loss: 0.144\n",
            " |   14/   20 batches | loss: 0.145\n",
            " |   15/   20 batches | loss: 0.142\n",
            " |   16/   20 batches | loss: 0.123\n",
            " |   17/   20 batches | loss: 0.135\n",
            " |   18/   20 batches | loss: 0.129\n",
            " |   19/   20 batches | loss: 0.12\n",
            " |    0/   20 batches | loss: 0.127\n",
            " |    1/   20 batches | loss: 0.121\n",
            " |    2/   20 batches | loss: 0.132\n",
            " |    3/   20 batches | loss: 0.131\n",
            " |    4/   20 batches | loss: 0.112\n",
            " |    5/   20 batches | loss: 0.147\n",
            " |    6/   20 batches | loss: 0.123\n",
            " |    7/   20 batches | loss: 0.132\n",
            " |    8/   20 batches | loss: 0.134\n",
            " |    9/   20 batches | loss: 0.128\n",
            " |   10/   20 batches | loss: 0.127\n",
            " |   11/   20 batches | loss: 0.131\n",
            " |   12/   20 batches | loss: 0.138\n",
            " |   13/   20 batches | loss: 0.132\n",
            " |   14/   20 batches | loss: 0.123\n",
            " |   15/   20 batches | loss: 0.123\n",
            " |   16/   20 batches | loss: 0.126\n",
            " |   17/   20 batches | loss: 0.135\n",
            " |   18/   20 batches | loss: 0.13\n",
            " |   19/   20 batches | loss: 0.123\n",
            " |    0/   20 batches | loss: 0.13\n",
            " |    1/   20 batches | loss: 0.121\n",
            " |    2/   20 batches | loss: 0.113\n",
            " |    3/   20 batches | loss: 0.119\n",
            " |    4/   20 batches | loss: 0.114\n",
            " |    5/   20 batches | loss: 0.122\n",
            " |    6/   20 batches | loss: 0.11\n",
            " |    7/   20 batches | loss: 0.137\n",
            " |    8/   20 batches | loss: 0.124\n",
            " |    9/   20 batches | loss: 0.124\n",
            " |   10/   20 batches | loss: 0.134\n",
            " |   11/   20 batches | loss: 0.134\n",
            " |   12/   20 batches | loss: 0.124\n",
            " |   13/   20 batches | loss: 0.124\n",
            " |   14/   20 batches | loss: 0.133\n",
            " |   15/   20 batches | loss: 0.131\n",
            " |   16/   20 batches | loss: 0.131\n",
            " |   17/   20 batches | loss: 0.149\n",
            " |   18/   20 batches | loss: 0.136\n",
            " |   19/   20 batches | loss: 0.145\n",
            " |    0/   20 batches | loss: 0.136\n",
            " |    1/   20 batches | loss: 0.152\n",
            " |    2/   20 batches | loss: 0.12\n",
            " |    3/   20 batches | loss: 0.129\n",
            " |    4/   20 batches | loss: 0.12\n",
            " |    5/   20 batches | loss: 0.135\n",
            " |    6/   20 batches | loss: 0.134\n",
            " |    7/   20 batches | loss: 0.157\n",
            " |    8/   20 batches | loss: 0.141\n",
            " |    9/   20 batches | loss: 0.114\n",
            " |   10/   20 batches | loss: 0.133\n",
            " |   11/   20 batches | loss: 0.127\n"
          ]
        },
        {
          "output_type": "stream",
          "name": "stderr",
          "text": [
            "\r 97%|█████████▋| 97/100 [00:06<00:00, 25.08it/s]"
          ]
        },
        {
          "output_type": "stream",
          "name": "stdout",
          "text": [
            " |   12/   20 batches | loss: 0.121\n",
            " |   13/   20 batches | loss: 0.13\n",
            " |   14/   20 batches | loss: 0.112\n",
            " |   15/   20 batches | loss: 0.121\n",
            " |   16/   20 batches | loss: 0.134\n",
            " |   17/   20 batches | loss: 0.126\n",
            " |   18/   20 batches | loss: 0.124\n",
            " |   19/   20 batches | loss: 0.115\n",
            " |    0/   20 batches | loss: 0.138\n",
            " |    1/   20 batches | loss: 0.125\n",
            " |    2/   20 batches | loss: 0.109\n",
            " |    3/   20 batches | loss: 0.129\n",
            " |    4/   20 batches | loss: 0.137\n",
            " |    5/   20 batches | loss: 0.114\n",
            " |    6/   20 batches | loss: 0.123\n",
            " |    7/   20 batches | loss: 0.138\n",
            " |    8/   20 batches | loss: 0.119\n",
            " |    9/   20 batches | loss: 0.149\n",
            " |   10/   20 batches | loss: 0.124\n",
            " |   11/   20 batches | loss: 0.134\n",
            " |   12/   20 batches | loss: 0.125\n",
            " |   13/   20 batches | loss: 0.123\n",
            " |   14/   20 batches | loss: 0.124\n",
            " |   15/   20 batches | loss: 0.119\n",
            " |   16/   20 batches | loss: 0.133\n",
            " |   17/   20 batches | loss: 0.127\n",
            " |   18/   20 batches | loss: 0.12\n",
            " |   19/   20 batches | loss: 0.14\n",
            " |    0/   20 batches | loss: 0.158\n",
            " |    1/   20 batches | loss: 0.146\n",
            " |    2/   20 batches | loss: 0.15\n",
            " |    3/   20 batches | loss: 0.141\n",
            " |    4/   20 batches | loss: 0.14\n",
            " |    5/   20 batches | loss: 0.126\n",
            " |    6/   20 batches | loss: 0.117\n",
            " |    7/   20 batches | loss: 0.124\n",
            " |    8/   20 batches | loss: 0.124\n",
            " |    9/   20 batches | loss: 0.122\n",
            " |   10/   20 batches | loss: 0.101\n",
            " |   11/   20 batches | loss: 0.142\n",
            " |   12/   20 batches | loss: 0.124\n",
            " |   13/   20 batches | loss: 0.124\n",
            " |   14/   20 batches | loss: 0.129\n",
            " |   15/   20 batches | loss: 0.145\n",
            " |   16/   20 batches | loss: 0.133\n",
            " |   17/   20 batches | loss: 0.118\n",
            " |   18/   20 batches | loss: 0.107\n",
            " |   19/   20 batches | loss: 0.137\n",
            " |    0/   20 batches | loss: 0.14\n",
            " |    1/   20 batches | loss: 0.129\n",
            " |    2/   20 batches | loss: 0.14\n",
            " |    3/   20 batches | loss: 0.118\n",
            " |    4/   20 batches | loss: 0.125\n",
            " |    5/   20 batches | loss: 0.116\n",
            " |    6/   20 batches | loss: 0.126\n",
            " |    7/   20 batches | loss: 0.124\n",
            " |    8/   20 batches | loss: 0.112\n",
            " |    9/   20 batches | loss: 0.122\n",
            " |   10/   20 batches | loss: 0.131\n",
            " |   11/   20 batches | loss: 0.122\n",
            " |   12/   20 batches | loss: 0.13\n",
            " |   13/   20 batches | loss: 0.112\n",
            " |   14/   20 batches | loss: 0.109\n",
            " |   15/   20 batches | loss: 0.132\n",
            " |   16/   20 batches | loss: 0.122\n",
            " |   17/   20 batches | loss: 0.117\n",
            " |   18/   20 batches | loss: 0.114\n",
            " |   19/   20 batches | loss: 0.112\n",
            " |    0/   20 batches | loss: 0.117\n",
            " |    1/   20 batches | loss: 0.11\n",
            " |    2/   20 batches | loss: 0.143\n",
            " |    3/   20 batches | loss: 0.139\n",
            " |    4/   20 batches | loss: 0.105\n",
            " |    5/   20 batches | loss: 0.123\n",
            " |    6/   20 batches | loss: 0.117\n",
            " |    7/   20 batches | loss: 0.121\n",
            " |    8/   20 batches | loss: 0.123\n",
            " |    9/   20 batches | loss: 0.122\n",
            " |   10/   20 batches | loss: 0.125\n",
            " |   11/   20 batches | loss: 0.122\n",
            " |   12/   20 batches | loss: 0.133\n",
            " |   13/   20 batches | loss: 0.127\n",
            " |   14/   20 batches | loss: 0.127\n",
            " |   15/   20 batches | loss: 0.123\n",
            " |   16/   20 batches | loss: 0.136\n",
            " |   17/   20 batches | loss: 0.111\n",
            " |   18/   20 batches | loss: 0.127\n",
            " |   19/   20 batches | loss: 0.138\n",
            " |    0/   20 batches | loss: 0.125\n",
            " |    1/   20 batches | loss: 0.0981\n",
            " |    2/   20 batches | loss: 0.13\n",
            " |    3/   20 batches | loss: 0.119\n",
            " |    4/   20 batches | loss: 0.114\n",
            " |    5/   20 batches | loss: 0.116\n",
            " |    6/   20 batches | loss: 0.122\n",
            " |    7/   20 batches | loss: 0.131\n",
            " |    8/   20 batches | loss: 0.131\n",
            " |    9/   20 batches | loss: 0.121\n",
            " |   10/   20 batches | loss: 0.124\n",
            " |   11/   20 batches | loss: 0.131\n"
          ]
        },
        {
          "output_type": "stream",
          "name": "stderr",
          "text": [
            "100%|██████████| 100/100 [00:06<00:00, 14.74it/s]"
          ]
        },
        {
          "output_type": "stream",
          "name": "stdout",
          "text": [
            " |   12/   20 batches | loss: 0.123\n",
            " |   13/   20 batches | loss: 0.111\n",
            " |   14/   20 batches | loss: 0.113\n",
            " |   15/   20 batches | loss: 0.115\n",
            " |   16/   20 batches | loss: 0.129\n",
            " |   17/   20 batches | loss: 0.113\n",
            " |   18/   20 batches | loss: 0.12\n",
            " |   19/   20 batches | loss: 0.141\n"
          ]
        },
        {
          "output_type": "stream",
          "name": "stderr",
          "text": [
            "\n"
          ]
        }
      ],
      "source": [
        "train_model(model, optimizer, train_data_loader, loss_module)"
      ]
    },
    {
      "cell_type": "markdown",
      "metadata": {
        "id": "oS2adzZRf4p1"
      },
      "source": [
        "A detailed tutorial on saving and loading models in PyTorch can be found [here](https://pytorch.org/tutorials/beginner/saving_loading_models.html)."
      ]
    },
    {
      "cell_type": "markdown",
      "metadata": {
        "id": "8BXGuKTBf4p1"
      },
      "source": [
        "### Evaluation\n",
        "\n",
        "Once we have trained a model, it is time to evaluate it on a held-out test set. As our dataset consist of randomly generated data points, we need to first create a test set with a corresponding data loader."
      ]
    },
    {
      "cell_type": "code",
      "execution_count": null,
      "metadata": {
        "id": "k0693iZ-f4p1"
      },
      "outputs": [],
      "source": [
        "test_dataset = CustomDataset(size=500)\n",
        "# drop_last -> Don't drop the last batch although it is smaller than 128\n",
        "test_data_loader = data.DataLoader(test_dataset, batch_size=128, shuffle=False, drop_last=False) "
      ]
    },
    {
      "cell_type": "markdown",
      "metadata": {
        "id": "0vsvic-Tf4p1"
      },
      "source": [
        "As metric, we will use accuracy which is calculated as follows:\n",
        "\n",
        "$$acc = \\frac{\\#\\text{correct predictions}}{\\#\\text{all predictions}} = \\frac{TP+TN}{TP+TN+FP+FN}$$\n",
        "\n",
        "where TP are the true positives, TN true negatives, FP false positives, and FN the fale negatives. \n",
        "\n",
        "When evaluating the model, we don't need to keep track of the computation graph as we don't intend to calculate the gradients. This reduces the required memory and speed up the model. In PyTorch, we can deactivate the computation graph using `with torch.no_grad(): ...`. Remember to additionally set the model to eval mode."
      ]
    },
    {
      "cell_type": "code",
      "execution_count": null,
      "metadata": {
        "id": "BxupM9B1f4p1"
      },
      "outputs": [],
      "source": [
        "softmax = nn.Softmax(dim=1)\n",
        "\n",
        "def eval_model(model, data_loader):\n",
        "    model.eval() # Set model to eval mode\n",
        "    true_preds, num_preds = 0., 0.\n",
        "    \n",
        "    with torch.no_grad(): # Deactivate gradients for the following code\n",
        "        for data_inputs, data_labels in data_loader:\n",
        "            \n",
        "            # Determine prediction of model on dev set\n",
        "            data_inputs, data_labels = data_inputs.to(device), data_labels.to(device)\n",
        "            preds = model(data_inputs)\n",
        "            preds = softmax(preds)\n",
        "            pred_labels = torch.argmax(preds, dim=1)\n",
        "            \n",
        "            # Keep records of predictions for the accuracy metric (true_preds=TP+TN, num_preds=TP+TN+FP+FN)\n",
        "            true_preds += (pred_labels == data_labels).sum()\n",
        "            num_preds += data_labels.shape[0]\n",
        "            \n",
        "    acc = true_preds / num_preds\n",
        "    print(f\"Accuracy of the model: {100.0*acc:4.2f}%\")"
      ]
    },
    {
      "cell_type": "code",
      "execution_count": null,
      "metadata": {
        "id": "xL3dPyZIf4p1",
        "outputId": "aa31b94a-0948-4346-9af5-83a0a75f5af3",
        "colab": {
          "base_uri": "https://localhost:8080/"
        }
      },
      "outputs": [
        {
          "output_type": "stream",
          "name": "stdout",
          "text": [
            "Accuracy of the model: 99.40%\n"
          ]
        }
      ],
      "source": [
        "eval_model(model, test_data_loader)"
      ]
    },
    {
      "cell_type": "code",
      "source": [
        "test_sample = torch.randint(low=-1000, high=1000, size=(1, 2), dtype=torch.float32)\n",
        "test_sample"
      ],
      "metadata": {
        "colab": {
          "base_uri": "https://localhost:8080/"
        },
        "id": "7YFXw8skj7M3",
        "outputId": "734905f7-eb63-4e2b-b177-a14ffd4bcfa6"
      },
      "execution_count": null,
      "outputs": [
        {
          "output_type": "execute_result",
          "data": {
            "text/plain": [
              "tensor([[-499.,  945.]])"
            ]
          },
          "metadata": {},
          "execution_count": 33
        }
      ]
    },
    {
      "cell_type": "code",
      "source": [
        "pred = model(test_sample.to(device))\n",
        "softmax = nn.Softmax(dim=1)\n",
        "pred = softmax(pred)\n",
        "pred = torch.argmax(pred, dim=1)\n",
        "pred"
      ],
      "metadata": {
        "colab": {
          "base_uri": "https://localhost:8080/"
        },
        "id": "FZZt4kFBkLP_",
        "outputId": "f01ef3b5-9809-4816-cc76-891837c9433c"
      },
      "execution_count": null,
      "outputs": [
        {
          "output_type": "execute_result",
          "data": {
            "text/plain": [
              "tensor([1], device='cuda:0')"
            ]
          },
          "metadata": {},
          "execution_count": 34
        }
      ]
    },
    {
      "cell_type": "markdown",
      "source": [
        "## Odd/even classification\n",
        "Now let's train a network for classifying wheter sum of two numbers is even or odd. Given 2 numbers $x_1$ and $x_2$, the goal is to predict label $0$ if $x_1+x_2$ is even and $1$ if it is odd."
      ],
      "metadata": {
        "id": "-9QjIJlHUkvW"
      }
    },
    {
      "cell_type": "code",
      "source": [
        "class CustomDataset(data.Dataset):\n",
        "\n",
        "    def __init__(self, size, max_range=1000):\n",
        "        \"\"\"\n",
        "        Inputs:\n",
        "            size - Number of data points we want to generate\n",
        "        \"\"\"\n",
        "        super().__init__()\n",
        "        self.size = size\n",
        "        self.max_range = max_range\n",
        "        self.generate_sample_data()\n",
        "\n",
        "    def generate_sample_data(self):\n",
        "        data = torch.randint(low=0, high=self.max_range, size=(self.size, 2), dtype=torch.float32)\n",
        "        label = ((data.sum(dim=1)%2) == 1).to(torch.float)\n",
        "\n",
        "        self.data = data\n",
        "        self.label = label\n",
        "\n",
        "    def __len__(self):\n",
        "        # Number of data point we have. Alternatively self.data.shape[0], or self.label.shape[0]\n",
        "        return self.size\n",
        "\n",
        "    def __getitem__(self, idx):\n",
        "        # Return the idx-th data point of the dataset\n",
        "        # If we have multiple things to return (data point and label), we can return them as tuple\n",
        "        data_point = self.data[idx]\n",
        "        data_label = self.label[idx]\n",
        "        return data_point, data_label"
      ],
      "metadata": {
        "id": "KWIwYqy2qnWd"
      },
      "execution_count": null,
      "outputs": []
    },
    {
      "cell_type": "code",
      "source": [
        "dataset = CustomDataset(size=200)\n",
        "print(\"Size of dataset:\", len(dataset))\n",
        "print(\"Data point 0:\", dataset[0])"
      ],
      "metadata": {
        "id": "xzGOyp6Fqqbx"
      },
      "execution_count": null,
      "outputs": []
    },
    {
      "cell_type": "code",
      "source": [
        "from matplotlib import pyplot as plt\n",
        "\n",
        "def visualize_samples(data, label):\n",
        "    if isinstance(data, torch.Tensor):\n",
        "        data = data.detach().numpy()\n",
        "    if isinstance(label, torch.Tensor):\n",
        "        label = label.detach().numpy()\n",
        "    data_0 = data[label == 0]\n",
        "    data_1 = data[label == 1]\n",
        "    \n",
        "    plt.figure(figsize=(4,4))\n",
        "    plt.scatter(data_0[:,0], data_0[:,1], edgecolor=\"#333\", label=\"Class 0\")\n",
        "    plt.scatter(data_1[:,0], data_1[:,1], edgecolor=\"#333\", label=\"Class 1\")\n",
        "    plt.title(\"Dataset samples\")\n",
        "    plt.ylabel(r\"$x_2$\")\n",
        "    plt.xlabel(r\"$x_1$\")\n",
        "    plt.legend()"
      ],
      "metadata": {
        "id": "rtkvFr5hqq_w"
      },
      "execution_count": null,
      "outputs": []
    },
    {
      "cell_type": "code",
      "source": [
        "class SimpleClassifier(nn.Module):\n",
        "\n",
        "    def __init__(self, num_inputs, num_hidden, num_outputs):\n",
        "        super().__init__()\n",
        "        # Initialize the modules we need to build the network\n",
        "        self.linear1 = nn.Linear(num_inputs, num_hidden)\n",
        "        self.act_fn = nn.ReLU()\n",
        "        self.linear2 = nn.Linear(num_hidden, num_hidden)\n",
        "        self.linear3 = nn.Linear(num_hidden, num_outputs)\n",
        "\n",
        "    def forward(self, x):\n",
        "        # Perform the calculation of the model to determine the prediction\n",
        "        x = self.linear1(x)\n",
        "        x = self.act_fn(x)\n",
        "        x = self.linear2(x)\n",
        "        x = self.act_fn(x)\n",
        "        output = self.linear3(x)\n",
        "        return output"
      ],
      "metadata": {
        "id": "fv0Q06b5U48k"
      },
      "execution_count": null,
      "outputs": []
    },
    {
      "cell_type": "code",
      "source": [
        "model = SimpleClassifier(num_inputs=2, num_hidden=4, num_outputs=2)\n",
        "# Printing a module shows all its submodules\n",
        "print(model)"
      ],
      "metadata": {
        "id": "ChBmAOW7qjuv"
      },
      "execution_count": null,
      "outputs": []
    },
    {
      "cell_type": "code",
      "source": [
        "# Input to the optimizer are the parameters of the model: model.parameters()\n",
        "optimizer = torch.optim.SGD(model.parameters(), lr=0.1)"
      ],
      "metadata": {
        "id": "FTvD9CUAqwyn"
      },
      "execution_count": null,
      "outputs": []
    },
    {
      "cell_type": "code",
      "source": [
        "train_dataset = CustomDataset(size=2500)\n",
        "train_data_loader = data.DataLoader(train_dataset, batch_size=128, shuffle=True)"
      ],
      "metadata": {
        "id": "PKgMX7ZTqzKQ"
      },
      "execution_count": null,
      "outputs": []
    },
    {
      "cell_type": "code",
      "source": [
        "# Push model to device. Has to be only done once\n",
        "model.to(device)"
      ],
      "metadata": {
        "id": "vLD1MY-oq05Z"
      },
      "execution_count": null,
      "outputs": []
    },
    {
      "cell_type": "code",
      "source": [
        "from tqdm import tqdm\n",
        "\n",
        "def train_model(model, optimizer, data_loader, loss_module, num_epochs=100):\n",
        "    # Set model to train mode\n",
        "    model.train() \n",
        "    \n",
        "    # Training loop\n",
        "    for epoch in tqdm(range(num_epochs)):\n",
        "        for idx, (data_inputs, data_labels) in enumerate(data_loader):\n",
        "            \n",
        "            optimizer.zero_grad()\n",
        "            \n",
        "            data_inputs = data_inputs.to(device)\n",
        "            data_labels = data_labels.to(device)\n",
        "            \n",
        "            preds = model(data_inputs)\n",
        "\n",
        "            loss = loss_module(preds, data_labels)\n",
        "            print(f' |{idx:5d}/{len(data_loader):5d} batches | loss: {loss:.3}')\n",
        " \n",
        "            loss.backward()\n",
        "            \n",
        "            optimizer.step()"
      ],
      "metadata": {
        "id": "rLTVF_euq29I"
      },
      "execution_count": null,
      "outputs": []
    },
    {
      "cell_type": "code",
      "source": [
        "test_dataset = CustomDataset(size=500)\n",
        "# drop_last -> Don't drop the last batch although it is smaller than 128\n",
        "test_data_loader = data.DataLoader(test_dataset, batch_size=128, shuffle=False, drop_last=False) "
      ],
      "metadata": {
        "id": "Gy6DyiJtrAzg"
      },
      "execution_count": null,
      "outputs": []
    },
    {
      "cell_type": "code",
      "source": [
        "softmax = nn.Softmax(dim=1)\n",
        "\n",
        "def eval_model(model, data_loader):\n",
        "    model.eval() # Set model to eval mode\n",
        "    true_preds, num_preds = 0., 0.\n",
        "    \n",
        "    with torch.no_grad(): # Deactivate gradients for the following code\n",
        "        for data_inputs, data_labels in data_loader:\n",
        "            \n",
        "            # Determine prediction of model on dev set\n",
        "            data_inputs, data_labels = data_inputs.to(device), data_labels.to(device)\n",
        "            preds = model(data_inputs)\n",
        "            preds = softmax(preds)\n",
        "            pred_labels = torch.argmax(preds, dim=1)\n",
        "            \n",
        "            # Keep records of predictions for the accuracy metric (true_preds=TP+TN, num_preds=TP+TN+FP+FN)\n",
        "            true_preds += (pred_labels == data_labels).sum()\n",
        "            num_preds += data_labels.shape[0]\n",
        "            \n",
        "    acc = true_preds / num_preds\n",
        "    print(f\"Accuracy of the model: {100.0*acc:4.2f}%\")"
      ],
      "metadata": {
        "id": "ZuxQv0swrDkK"
      },
      "execution_count": null,
      "outputs": []
    },
    {
      "cell_type": "code",
      "source": [
        "eval_model(model, test_data_loader)"
      ],
      "metadata": {
        "id": "KdMf3jrArFoX"
      },
      "execution_count": null,
      "outputs": []
    }
  ],
  "metadata": {
    "kernelspec": {
      "display_name": "Python 3 (ipykernel)",
      "language": "python",
      "name": "python3"
    },
    "language_info": {
      "codemirror_mode": {
        "name": "ipython",
        "version": 3
      },
      "file_extension": ".py",
      "mimetype": "text/x-python",
      "name": "python",
      "nbconvert_exporter": "python",
      "pygments_lexer": "ipython3",
      "version": "3.10.6"
    },
    "colab": {
      "provenance": [],
      "gpuType": "T4",
      "include_colab_link": true
    },
    "accelerator": "GPU",
    "gpuClass": "standard"
  },
  "nbformat": 4,
  "nbformat_minor": 0
}